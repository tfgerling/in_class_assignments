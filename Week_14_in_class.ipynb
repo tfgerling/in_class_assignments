{
 "cells": [
  {
   "cell_type": "markdown",
   "id": "226dc993",
   "metadata": {},
   "source": [
    "1. Using the documentation for Recursive Feature Selection, apply this process to the\n",
    "crime dataset to create the best multivariate linear regression model\n",
    "https://scikit-learn.org/stable/modules/generated/sklearn.feature_selection.RFE.html .\n",
    "You can select what you’re trying to predict, but be sure to indicate what that is. Be sure\n",
    "to explain what RFE is in the markdown. You should be able to answer this using what’s\n",
    "on the documentation page + what you already know.\n"
   ]
  },
  {
   "cell_type": "markdown",
   "id": "8a63f559",
   "metadata": {},
   "source": [
    "RFE - Recursive Feature Elimination\n",
    "\n",
    "RFE ranks features by recursive feature elimination to select best features. The method recursively eliminates the least important features based on specific attributes taken by estimator."
   ]
  },
  {
   "cell_type": "code",
   "execution_count": 2,
   "id": "abed68b9",
   "metadata": {},
   "outputs": [
    {
     "data": {
      "text/html": [
       "<div>\n",
       "<style scoped>\n",
       "    .dataframe tbody tr th:only-of-type {\n",
       "        vertical-align: middle;\n",
       "    }\n",
       "\n",
       "    .dataframe tbody tr th {\n",
       "        vertical-align: top;\n",
       "    }\n",
       "\n",
       "    .dataframe thead th {\n",
       "        text-align: right;\n",
       "    }\n",
       "</style>\n",
       "<table border=\"1\" class=\"dataframe\">\n",
       "  <thead>\n",
       "    <tr style=\"text-align: right;\">\n",
       "      <th></th>\n",
       "      <th>X1</th>\n",
       "      <th>X2</th>\n",
       "      <th>X3</th>\n",
       "      <th>X4</th>\n",
       "      <th>X5</th>\n",
       "      <th>X6</th>\n",
       "      <th>X7</th>\n",
       "    </tr>\n",
       "  </thead>\n",
       "  <tbody>\n",
       "    <tr>\n",
       "      <th>0</th>\n",
       "      <td>478</td>\n",
       "      <td>184</td>\n",
       "      <td>40</td>\n",
       "      <td>74</td>\n",
       "      <td>11</td>\n",
       "      <td>31</td>\n",
       "      <td>20</td>\n",
       "    </tr>\n",
       "    <tr>\n",
       "      <th>1</th>\n",
       "      <td>494</td>\n",
       "      <td>213</td>\n",
       "      <td>32</td>\n",
       "      <td>72</td>\n",
       "      <td>11</td>\n",
       "      <td>43</td>\n",
       "      <td>18</td>\n",
       "    </tr>\n",
       "    <tr>\n",
       "      <th>2</th>\n",
       "      <td>643</td>\n",
       "      <td>347</td>\n",
       "      <td>57</td>\n",
       "      <td>70</td>\n",
       "      <td>18</td>\n",
       "      <td>16</td>\n",
       "      <td>16</td>\n",
       "    </tr>\n",
       "    <tr>\n",
       "      <th>3</th>\n",
       "      <td>341</td>\n",
       "      <td>565</td>\n",
       "      <td>31</td>\n",
       "      <td>71</td>\n",
       "      <td>11</td>\n",
       "      <td>25</td>\n",
       "      <td>19</td>\n",
       "    </tr>\n",
       "    <tr>\n",
       "      <th>4</th>\n",
       "      <td>773</td>\n",
       "      <td>327</td>\n",
       "      <td>67</td>\n",
       "      <td>72</td>\n",
       "      <td>9</td>\n",
       "      <td>29</td>\n",
       "      <td>24</td>\n",
       "    </tr>\n",
       "  </tbody>\n",
       "</table>\n",
       "</div>"
      ],
      "text/plain": [
       "    X1   X2  X3  X4  X5  X6  X7\n",
       "0  478  184  40  74  11  31  20\n",
       "1  494  213  32  72  11  43  18\n",
       "2  643  347  57  70  18  16  16\n",
       "3  341  565  31  71  11  25  19\n",
       "4  773  327  67  72   9  29  24"
      ]
     },
     "execution_count": 2,
     "metadata": {},
     "output_type": "execute_result"
    }
   ],
   "source": [
    "import numpy as np\n",
    "import pandas as pd\n",
    "import matplotlib.pyplot as plt\n",
    "import seaborn as sns\n",
    "from sklearn.svm import SVC,SVR\n",
    "from sklearn.datasets import load_digits\n",
    "from sklearn.feature_selection import RFE\n",
    "from sklearn.ensemble import AdaBoostRegressor\n",
    "\n",
    "\n",
    "crime_df = pd.read_csv(\"crime_data.csv\")\n",
    "crime_df.head()"
   ]
  },
  {
   "cell_type": "code",
   "execution_count": 3,
   "id": "6e068727",
   "metadata": {},
   "outputs": [
    {
     "name": "stdout",
     "output_type": "stream",
     "text": [
      "<class 'pandas.core.frame.DataFrame'>\n",
      "RangeIndex: 50 entries, 0 to 49\n",
      "Data columns (total 7 columns):\n",
      " #   Column  Non-Null Count  Dtype\n",
      "---  ------  --------------  -----\n",
      " 0   X1      50 non-null     int64\n",
      " 1   X2      50 non-null     int64\n",
      " 2   X3      50 non-null     int64\n",
      " 3   X4      50 non-null     int64\n",
      " 4   X5      50 non-null     int64\n",
      " 5   X6      50 non-null     int64\n",
      " 6   X7      50 non-null     int64\n",
      "dtypes: int64(7)\n",
      "memory usage: 2.9 KB\n"
     ]
    }
   ],
   "source": [
    "crime_df.info()"
   ]
  },
  {
   "cell_type": "code",
   "execution_count": 4,
   "id": "159ea4be",
   "metadata": {},
   "outputs": [
    {
     "name": "stdout",
     "output_type": "stream",
     "text": [
      "Mask data:  [ True False False False False False]\n",
      "Ranking:  [1 2 3 5 6 4]\n"
     ]
    }
   ],
   "source": [
    "# Used the AdaBoostRegressor meta-estimator model. Targeted 1 feature to be selected.\n",
    "\n",
    "X = crime_df.drop('X1',axis=1)\n",
    "y = crime_df['X1']\n",
    "\n",
    "estimator = AdaBoostRegressor(random_state=0, n_estimators=100)\n",
    "selector = RFE(estimator, n_features_to_select=1, step=1)\n",
    "selector = selector.fit(X, y)\n",
    " \n",
    "filter = selector.support_\n",
    "ranking = selector.ranking_\n",
    "\n",
    "print(\"Mask data: \", filter)\n",
    "print(\"Ranking: \", ranking)\n"
   ]
  },
  {
   "cell_type": "code",
   "execution_count": 5,
   "id": "901997cf",
   "metadata": {},
   "outputs": [
    {
     "name": "stdout",
     "output_type": "stream",
     "text": [
      "All features:\n",
      "['X2' 'X3' 'X4' 'X5' 'X6' 'X7']\n",
      "Selected features:\n",
      "['X2']\n"
     ]
    }
   ],
   "source": [
    "#now to show what features were selected\n",
    "features = np.array(X.columns)\n",
    "print(\"All features:\")\n",
    "print(features)\n",
    "\n",
    "print(\"Selected features:\")\n",
    "print(features[filter])"
   ]
  },
  {
   "cell_type": "markdown",
   "id": "4ee1c7f9",
   "metadata": {},
   "source": [
    "2. Create a list of preprocessing steps you should try when working to build a model. Briefly describe what each step is. Work with your group to come up with the most comprehensive list you can"
   ]
  },
  {
   "cell_type": "markdown",
   "id": "a9bd6e6a",
   "metadata": {},
   "source": [
    "- Plot the overall distribution of your data\n",
    "    - This wil help us know if our data are very skewed\n",
    "    - This will also help us know what further preprocessing steps we need\n",
    "- Look at what data types you have, how many features, how many rows, etc.\n",
    "    - How many categorical vs. numeric?\n",
    "    - Any datetime values? etc.\n",
    "- Cleaning nulls \n",
    "    - Removing features that have too many nulls (e.g. over 50%)\n",
    "- Handle missing data\n",
    "    - Might want to replace null with 0, mean, median, etc. depending on our data\n",
    "    - Need to be carefulj on how this affects our data\n",
    "- Standardize your data (normalize)\n",
    "- Scale your data\n",
    "    - Transform data to be the same scale (especially useful for different distance measures that are very sensitive to scale)\n",
    "- Convert categorical to numeric\n",
    "    - This is crucial for machine learning algorithms\n",
    "- One-hot encoding\n",
    "- Cleaning up your data in general\n",
    "    - Missing values\n",
    "    - Changing strings to numeric or proper dates\n",
    "    - Spaces in odd places\n",
    "    - Weird characters, etc.\n",
    "- Correlation matrix\n",
    "    - See where you have multicollinearity\n",
    "    - If applicable, drop features that are highly correlated with each other before running your model\n",
    "    - Drop redundant columns"
   ]
  },
  {
   "cell_type": "code",
   "execution_count": null,
   "id": "835204a1",
   "metadata": {},
   "outputs": [],
   "source": []
  }
 ],
 "metadata": {
  "kernelspec": {
   "display_name": "Python 3 (ipykernel)",
   "language": "python",
   "name": "python3"
  },
  "language_info": {
   "codemirror_mode": {
    "name": "ipython",
    "version": 3
   },
   "file_extension": ".py",
   "mimetype": "text/x-python",
   "name": "python",
   "nbconvert_exporter": "python",
   "pygments_lexer": "ipython3",
   "version": "3.9.7"
  }
 },
 "nbformat": 4,
 "nbformat_minor": 5
}
