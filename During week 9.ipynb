{
 "cells": [
  {
   "cell_type": "code",
   "execution_count": 1,
   "id": "1258e748",
   "metadata": {},
   "outputs": [],
   "source": [
    "import pandas as pd\n",
    "belize_df = pd.read_csv(\"belize_airbnb_listings.csv\")"
   ]
  },
  {
   "cell_type": "code",
   "execution_count": 2,
   "id": "ecee7069",
   "metadata": {},
   "outputs": [
    {
     "data": {
      "text/html": [
       "<div>\n",
       "<style scoped>\n",
       "    .dataframe tbody tr th:only-of-type {\n",
       "        vertical-align: middle;\n",
       "    }\n",
       "\n",
       "    .dataframe tbody tr th {\n",
       "        vertical-align: top;\n",
       "    }\n",
       "\n",
       "    .dataframe thead th {\n",
       "        text-align: right;\n",
       "    }\n",
       "</style>\n",
       "<table border=\"1\" class=\"dataframe\">\n",
       "  <thead>\n",
       "    <tr style=\"text-align: right;\">\n",
       "      <th></th>\n",
       "      <th>price</th>\n",
       "    </tr>\n",
       "  </thead>\n",
       "  <tbody>\n",
       "    <tr>\n",
       "      <th>mean</th>\n",
       "      <td>357.102289</td>\n",
       "    </tr>\n",
       "    <tr>\n",
       "      <th>median</th>\n",
       "      <td>220.000000</td>\n",
       "    </tr>\n",
       "    <tr>\n",
       "      <th>std</th>\n",
       "      <td>563.124825</td>\n",
       "    </tr>\n",
       "  </tbody>\n",
       "</table>\n",
       "</div>"
      ],
      "text/plain": [
       "             price\n",
       "mean    357.102289\n",
       "median  220.000000\n",
       "std     563.124825"
      ]
     },
     "execution_count": 2,
     "metadata": {},
     "output_type": "execute_result"
    }
   ],
   "source": [
    "belize_df.agg({'price' : ['mean', 'median', 'std']})"
   ]
  },
  {
   "cell_type": "markdown",
   "id": "8f904fb1",
   "metadata": {},
   "source": [
    "wide variation in numbers, positively skewed based on the mean being greater than the median"
   ]
  },
  {
   "cell_type": "code",
   "execution_count": 4,
   "id": "d807d853",
   "metadata": {},
   "outputs": [
    {
     "data": {
      "text/plain": [
       "mean      357.102289\n",
       "median    220.000000\n",
       "std       563.124825\n",
       "Name: price, dtype: float64"
      ]
     },
     "execution_count": 4,
     "metadata": {},
     "output_type": "execute_result"
    }
   ],
   "source": [
    "belize_df['price'].agg(['mean','median','std']) # Mangai's answer"
   ]
  },
  {
   "cell_type": "markdown",
   "id": "2ecb9a22",
   "metadata": {},
   "source": [
    "What is probability? - likelihood that something is going to happen\n",
    "Between 0 and 1 - summation is 1\n",
    "\n",
    "random variable - where the possible outcomes are a function of a random phenomena\n",
    "\n",
    "results are repeatable when using a random seed\n",
    "\n",
    "Begin using a random seed in our notebooks"
   ]
  },
  {
   "cell_type": "markdown",
   "id": "45880b53",
   "metadata": {},
   "source": [
    "Discrete data - binomial distribution\n",
    " - specific values \n",
    " - binning\n",
    " - integer, not float\n",
    " - number of movies released in a year is an example\n",
    " \n",
    "Continuous data - standard normal distribution\n",
    " - infinite range of values\n",
    " - outcome will be 0? will have to check into that again\n",
    " - heights of population is an example\n",
    " "
   ]
  },
  {
   "cell_type": "markdown",
   "id": "7aab4931",
   "metadata": {},
   "source": [
    "Uniform distribution\n",
    " - pay attention to how questions are worded to differentiate between the different distributions\n",
    " - every outcome has the same likelihood\n",
    "\n",
    "Binomial distribution\n",
    "- conducted multiple times (coin 20 times)\n",
    "- as the number of times increases, this will tend toward normal distribution\n",
    "\n",
    "Normal distribution\n",
    "- continuous data\n",
    "- sigma is std?\n",
    "- 95-97-99 - 95 fits with 1, 97 fits within 2, 99 fits within 3\n",
    "\n",
    "Law of large numbers - as the sample size increases, the results more closely match whole population\n",
    "(a+b)/2\n",
    "binomial - mean\n",
    "standard - mean"
   ]
  },
  {
   "cell_type": "markdown",
   "id": "d2b54e90",
   "metadata": {},
   "source": [
    "point of creating a random seed in probability - results are repeatable/shareable\n",
    "\n",
    "expected value for the number of heads in 50 trials of coin tosses?\n",
    " 50 * .5 = 25\n",
    " "
   ]
  },
  {
   "cell_type": "code",
   "execution_count": null,
   "id": "ca89a452",
   "metadata": {},
   "outputs": [],
   "source": []
  }
 ],
 "metadata": {
  "kernelspec": {
   "display_name": "Python 3 (ipykernel)",
   "language": "python",
   "name": "python3"
  },
  "language_info": {
   "codemirror_mode": {
    "name": "ipython",
    "version": 3
   },
   "file_extension": ".py",
   "mimetype": "text/x-python",
   "name": "python",
   "nbconvert_exporter": "python",
   "pygments_lexer": "ipython3",
   "version": "3.9.7"
  }
 },
 "nbformat": 4,
 "nbformat_minor": 5
}
