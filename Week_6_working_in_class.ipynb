{
 "cells": [
  {
   "cell_type": "code",
   "execution_count": 1,
   "id": "0740f084",
   "metadata": {},
   "outputs": [],
   "source": [
    "#scaleable vector graph - svg - better format to save it in instead of png\n"
   ]
  },
  {
   "cell_type": "code",
   "execution_count": 2,
   "id": "2529018e",
   "metadata": {},
   "outputs": [],
   "source": [
    "#what is data - information about something \n",
    "#database - holds related information together - structured\n",
    "#different types of data? which is/are found in RDBMS - relational - structured data and semi-structured"
   ]
  },
  {
   "cell_type": "code",
   "execution_count": null,
   "id": "b2922cf5",
   "metadata": {},
   "outputs": [],
   "source": []
  }
 ],
 "metadata": {
  "kernelspec": {
   "display_name": "Python 3 (ipykernel)",
   "language": "python",
   "name": "python3"
  },
  "language_info": {
   "codemirror_mode": {
    "name": "ipython",
    "version": 3
   },
   "file_extension": ".py",
   "mimetype": "text/x-python",
   "name": "python",
   "nbconvert_exporter": "python",
   "pygments_lexer": "ipython3",
   "version": "3.9.7"
  }
 },
 "nbformat": 4,
 "nbformat_minor": 5
}
