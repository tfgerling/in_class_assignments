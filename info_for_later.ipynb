{
 "cells": [
  {
   "cell_type": "markdown",
   "id": "f68b7915",
   "metadata": {},
   "source": [
    "# Create probability distribution\n",
    "price_d = belize_df['price'].value_counts()/belize_df.shape[0]\n",
    "#price_d = belize_df['price'].count()\n",
    "\n",
    "# Reset index and rename columns\n",
    "price_d = price_d.reset_index()\n",
    "price_d.columns = ['price','prob']\n",
    "\n",
    "# Calculate expected value\n",
    "exp_value = np.sum(price_d['price'] * price_d['prob'])\n",
    "\n",
    "# Subset for price less than $50\n",
    "price_less_than_50 = price_d[price_d['price'] < 50]\n",
    "#price_less_than_50 = belize_df[belize_df['price'] < 50].count()\n",
    "\n",
    "# Sum the probabilities of price_less_than_50\n",
    "prob_less_50 = np.sum(price_less_than_50['prob'])\n",
    "#prob_less_50 = price_less_than_50 / price_d\n",
    "\n",
    "print('Probability that the price is under $50: ' + '{:.2%}'.format(prob_less_50))\n",
    "#print(prob_less_50)\n"
   ]
  }
 ],
 "metadata": {
  "kernelspec": {
   "display_name": "Python 3 (ipykernel)",
   "language": "python",
   "name": "python3"
  },
  "language_info": {
   "codemirror_mode": {
    "name": "ipython",
    "version": 3
   },
   "file_extension": ".py",
   "mimetype": "text/x-python",
   "name": "python",
   "nbconvert_exporter": "python",
   "pygments_lexer": "ipython3",
   "version": "3.9.7"
  }
 },
 "nbformat": 4,
 "nbformat_minor": 5
}
