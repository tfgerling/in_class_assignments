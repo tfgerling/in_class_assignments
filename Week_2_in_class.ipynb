{
 "cells": [
  {
   "cell_type": "code",
   "execution_count": 4,
   "id": "a9d6ac80",
   "metadata": {},
   "outputs": [
    {
     "name": "stdout",
     "output_type": "stream",
     "text": [
      "number not allowed\n"
     ]
    }
   ],
   "source": [
    "def ch_odd_even(n):\n",
    "    if (1<=n<=100):\n",
    "        if (n%2) != 0:\n",
    "            print(\"Weird\")\n",
    "        elif (n%2) == 0:\n",
    "            if n in range (2,6):\n",
    "                print(\"not Weird\")\n",
    "            elif n in range (6,21):\n",
    "                print(\"Weird\")\n",
    "            elif n > 20:\n",
    "                print(\"Not Weird\")\n",
    "    else:\n",
    "        print(\"number not allowed\")\n",
    "        \n",
    "\n",
    "ch_odd_even(101)\n",
    "        "
   ]
  },
  {
   "cell_type": "code",
   "execution_count": null,
   "id": "ed718d11",
   "metadata": {},
   "outputs": [],
   "source": []
  }
 ],
 "metadata": {
  "kernelspec": {
   "display_name": "Python 3 (ipykernel)",
   "language": "python",
   "name": "python3"
  },
  "language_info": {
   "codemirror_mode": {
    "name": "ipython",
    "version": 3
   },
   "file_extension": ".py",
   "mimetype": "text/x-python",
   "name": "python",
   "nbconvert_exporter": "python",
   "pygments_lexer": "ipython3",
   "version": "3.9.7"
  }
 },
 "nbformat": 4,
 "nbformat_minor": 5
}
