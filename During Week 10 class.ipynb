{
 "cells": [
  {
   "cell_type": "markdown",
   "id": "1fdc37b2",
   "metadata": {},
   "source": [
    "reverse a list not using reverse method"
   ]
  },
  {
   "cell_type": "code",
   "execution_count": 1,
   "id": "d0a7e124",
   "metadata": {},
   "outputs": [
    {
     "name": "stdout",
     "output_type": "stream",
     "text": [
      "[9, 8, 7, 6, 5, 4, 3, 2, 1, 0]\n"
     ]
    }
   ],
   "source": [
    "list_to_reverse = [0,1,2,3,4,5,6,7,8,9]\n",
    "reversed_list = list_to_reverse[::-1]\n",
    "print(reversed_list)"
   ]
  },
  {
   "cell_type": "markdown",
   "id": "d81acdb2",
   "metadata": {},
   "source": [
    "using list comprehension divide reversed list by 2"
   ]
  },
  {
   "cell_type": "code",
   "execution_count": 14,
   "id": "c4391373",
   "metadata": {},
   "outputs": [
    {
     "name": "stdout",
     "output_type": "stream",
     "text": [
      "[4.5, 4.0, 3.5, 3.0, 2.5, 2.0, 1.5, 1.0, 0.5, 0.0]\n"
     ]
    }
   ],
   "source": [
    "divided_list = [i/2 for i in reversed_list]\n",
    "print(divided_list)"
   ]
  },
  {
   "cell_type": "markdown",
   "id": "adbe8218",
   "metadata": {},
   "source": [
    "Linear algebra\n",
    " - vector math - what is a vector - has magnitude and direction\n",
    " - PCA - principle reducing variables in a dataset\n",
    " - one-hot encoding - convert categorical to numerical - don't need 2 columns - one column predicts another - multicollinear\n",
    " 2 variables highly correlated"
   ]
  },
  {
   "cell_type": "markdown",
   "id": "378592b6",
   "metadata": {},
   "source": [
    "# Vectors\n"
   ]
  },
  {
   "cell_type": "code",
   "execution_count": 21,
   "id": "661df917",
   "metadata": {},
   "outputs": [
    {
     "name": "stdout",
     "output_type": "stream",
     "text": [
      "[[1]\n",
      " [2]\n",
      " [3]]\n"
     ]
    }
   ],
   "source": [
    "import numpy as np\n",
    "v = np.array([[1],[2],[3]])\n",
    "v2 = np.array([[-1],[-2],[-3]])\n",
    "print(v)"
   ]
  },
  {
   "cell_type": "code",
   "execution_count": 17,
   "id": "b5f1afdf",
   "metadata": {},
   "outputs": [
    {
     "name": "stdout",
     "output_type": "stream",
     "text": [
      "[[1 2 3]]\n"
     ]
    }
   ],
   "source": [
    "print(v.T)"
   ]
  },
  {
   "cell_type": "code",
   "execution_count": 18,
   "id": "89389f09",
   "metadata": {},
   "outputs": [
    {
     "data": {
      "text/plain": [
       "(3, 1)"
      ]
     },
     "execution_count": 18,
     "metadata": {},
     "output_type": "execute_result"
    }
   ],
   "source": [
    "v.shape"
   ]
  },
  {
   "cell_type": "markdown",
   "id": "0cba61b1",
   "metadata": {},
   "source": [
    "# Matrices"
   ]
  },
  {
   "cell_type": "code",
   "execution_count": 19,
   "id": "701e412d",
   "metadata": {},
   "outputs": [
    {
     "data": {
      "text/plain": [
       "array([[1, 2, 3],\n",
       "       [4, 5, 6],\n",
       "       [7, 8, 9]])"
      ]
     },
     "execution_count": 19,
     "metadata": {},
     "output_type": "execute_result"
    }
   ],
   "source": [
    "M = np.array([[1,2,3],[4,5,6],[7,8,9]])\n",
    "M"
   ]
  },
  {
   "cell_type": "code",
   "execution_count": 20,
   "id": "4b438cc6",
   "metadata": {},
   "outputs": [
    {
     "data": {
      "text/plain": [
       "(3, 3)"
      ]
     },
     "execution_count": 20,
     "metadata": {},
     "output_type": "execute_result"
    }
   ],
   "source": [
    "M.shape"
   ]
  },
  {
   "cell_type": "code",
   "execution_count": 23,
   "id": "a82278f9",
   "metadata": {},
   "outputs": [
    {
     "data": {
      "text/plain": [
       "[(array([1]), array([-1])),\n",
       " (array([2]), array([-2])),\n",
       " (array([3]), array([-3]))]"
      ]
     },
     "execution_count": 23,
     "metadata": {},
     "output_type": "execute_result"
    }
   ],
   "source": [
    "# Scalar\n",
    "x=3.5\n",
    "\n",
    "# zipping\n",
    "new_matrix = list(zip(v,v2))\n",
    "new_matrix"
   ]
  },
  {
   "cell_type": "code",
   "execution_count": 24,
   "id": "7cce2f48",
   "metadata": {},
   "outputs": [
    {
     "data": {
      "text/plain": [
       "list"
      ]
     },
     "execution_count": 24,
     "metadata": {},
     "output_type": "execute_result"
    }
   ],
   "source": [
    "type(new_matrix)"
   ]
  },
  {
   "cell_type": "markdown",
   "id": "5ef0e127",
   "metadata": {},
   "source": [
    "Dot product - taking 2 vectors and compute dot product, produces scalar value\n"
   ]
  },
  {
   "cell_type": "code",
   "execution_count": 25,
   "id": "7ac9109b",
   "metadata": {},
   "outputs": [],
   "source": [
    "# dot product of a and b = ax*bx + ay*by - if know x, y coordinates\n",
    "# if not ||a|| * ||b|| * cosine (of angle)\n"
   ]
  },
  {
   "cell_type": "markdown",
   "id": "f26e30b4",
   "metadata": {},
   "source": [
    "# dot product\n",
    "\n",
    "We use the dot product to multiply vectors. With 2D vectors, this is the same as matrix multiplication, and we produce a scaler value (a number, not a vector).\n",
    "\n",
    "Result tells you the degree to which the vectors interact, or the interaction between similar dimensions.\n",
    "\n",
    "Why do we care? rendering, force diagrams, solar panel tracking"
   ]
  },
  {
   "cell_type": "code",
   "execution_count": 26,
   "id": "1d12e1c2",
   "metadata": {},
   "outputs": [
    {
     "name": "stdout",
     "output_type": "stream",
     "text": [
      "[[1 2 3]]\n",
      "[[1]\n",
      " [2]\n",
      " [3]]\n"
     ]
    }
   ],
   "source": [
    "print(v.T)\n",
    "print(v)"
   ]
  },
  {
   "cell_type": "code",
   "execution_count": 28,
   "id": "311cf748",
   "metadata": {},
   "outputs": [
    {
     "data": {
      "text/plain": [
       "array([[14]])"
      ]
     },
     "execution_count": 28,
     "metadata": {},
     "output_type": "execute_result"
    }
   ],
   "source": [
    "# 1*1 + 2*2 + 3*3\n",
    "np.dot(v.T,v)"
   ]
  },
  {
   "cell_type": "code",
   "execution_count": 29,
   "id": "7a11a546",
   "metadata": {},
   "outputs": [
    {
     "data": {
      "text/plain": [
       "-1"
      ]
     },
     "execution_count": 29,
     "metadata": {},
     "output_type": "execute_result"
    }
   ],
   "source": [
    "#directionality example\n",
    "north = np.array([0,1])\n",
    "east = np.array([1,0])\n",
    "south = np.array([0,-1])\n",
    "west = np.array([-1,0])\n",
    "\n",
    "# to what degree are the two directions the same\n",
    "np.dot(north,south)"
   ]
  },
  {
   "cell_type": "code",
   "execution_count": 30,
   "id": "c53504eb",
   "metadata": {},
   "outputs": [
    {
     "data": {
      "text/plain": [
       "0"
      ]
     },
     "execution_count": 30,
     "metadata": {},
     "output_type": "execute_result"
    }
   ],
   "source": [
    "np.dot(north,east) #have nothing in common"
   ]
  },
  {
   "cell_type": "code",
   "execution_count": 32,
   "id": "04bb526f",
   "metadata": {},
   "outputs": [
    {
     "data": {
      "text/plain": [
       "-1"
      ]
     },
     "execution_count": 32,
     "metadata": {},
     "output_type": "execute_result"
    }
   ],
   "source": [
    "# to what degree are north and south the same? both have a common x axis (which is 0)\n",
    "# create an example\n",
    "np.dot(north, south)"
   ]
  },
  {
   "cell_type": "code",
   "execution_count": 33,
   "id": "43a182c0",
   "metadata": {},
   "outputs": [],
   "source": [
    "# pythagoream theorem"
   ]
  },
  {
   "cell_type": "markdown",
   "id": "a2c6d99c",
   "metadata": {},
   "source": [
    "# Cross product\n",
    "\n",
    "Type of vector multiplication, but it shows the interaction between different components expressed by the vector. It tracks all of the cross interactions between dimensions\n",
    "\n",
    "When you compute the cross product, you get a new vector, not a scalar, that is perpendicular to both input vectors.\n",
    "\n",
    "* In each part of the cross product calculation, you are leaving out an interaction. * this could be stated better\n",
    "\n",
    "Why do we care? torque and \"moment\" of a force\n",
    "Moment = measure of the tendency to rotate about a particular point\n",
    "right hand rule"
   ]
  },
  {
   "cell_type": "code",
   "execution_count": 34,
   "id": "ee5bcfb9",
   "metadata": {},
   "outputs": [
    {
     "name": "stdout",
     "output_type": "stream",
     "text": [
      "[[1]\n",
      " [2]\n",
      " [3]]\n",
      "[[-1]\n",
      " [-2]\n",
      " [-3]]\n"
     ]
    }
   ],
   "source": [
    "print(v)\n",
    "print(v2)"
   ]
  },
  {
   "cell_type": "code",
   "execution_count": 36,
   "id": "7344b10c",
   "metadata": {},
   "outputs": [
    {
     "data": {
      "text/plain": [
       "array([[0, 0, 0]])"
      ]
     },
     "execution_count": 36,
     "metadata": {},
     "output_type": "execute_result"
    }
   ],
   "source": [
    "np.cross(v, v2, axisa=0,axisb=0 )"
   ]
  },
  {
   "cell_type": "markdown",
   "id": "5e0d7b30",
   "metadata": {},
   "source": [
    "# Orthogonality\n",
    "\n",
    "Two vectors are orthoganol if they're perpendicular.\n",
    "The dot product is 0 or the identity matrix.\n",
    "\n",
    "This is LaTeX\n",
    "$$ A \\cdot A^T = I $$"
   ]
  },
  {
   "cell_type": "code",
   "execution_count": 38,
   "id": "7fd2d835",
   "metadata": {},
   "outputs": [
    {
     "data": {
      "text/plain": [
       "array([[1, 0, 0],\n",
       "       [0, 1, 0],\n",
       "       [0, 0, 1]])"
      ]
     },
     "execution_count": 38,
     "metadata": {},
     "output_type": "execute_result"
    }
   ],
   "source": [
    "#this is an identity matrix\n",
    "\n",
    "\n",
    "M = np.array([[1,0,0],\n",
    "            [0,1,0],\n",
    "            [0,0,1]])\n",
    "M"
   ]
  },
  {
   "cell_type": "code",
   "execution_count": 39,
   "id": "cac43622",
   "metadata": {},
   "outputs": [
    {
     "data": {
      "text/plain": [
       "array([[1, 0, 0],\n",
       "       [0, 1, 0],\n",
       "       [0, 0, 1]])"
      ]
     },
     "execution_count": 39,
     "metadata": {},
     "output_type": "execute_result"
    }
   ],
   "source": [
    "M.T"
   ]
  },
  {
   "cell_type": "code",
   "execution_count": 40,
   "id": "62832e0d",
   "metadata": {},
   "outputs": [
    {
     "data": {
      "text/plain": [
       "array([[1, 0, 0],\n",
       "       [0, 1, 0],\n",
       "       [0, 0, 1]])"
      ]
     },
     "execution_count": 40,
     "metadata": {},
     "output_type": "execute_result"
    }
   ],
   "source": [
    "# a test for orthoganilty is if the matrix and its transpose equal the identity matrix\n",
    "np.dot(M,M.T)"
   ]
  },
  {
   "cell_type": "code",
   "execution_count": 43,
   "id": "968f3367",
   "metadata": {},
   "outputs": [
    {
     "data": {
      "text/plain": [
       "array([[1, 4, 7],\n",
       "       [2, 5, 8],\n",
       "       [3, 6, 9]])"
      ]
     },
     "execution_count": 43,
     "metadata": {},
     "output_type": "execute_result"
    }
   ],
   "source": [
    "M = np.array([[1,2,3], [4,5,6],[7,8,9]])\n",
    "M.T                                "
   ]
  },
  {
   "cell_type": "code",
   "execution_count": 44,
   "id": "1167ae28",
   "metadata": {},
   "outputs": [
    {
     "data": {
      "text/plain": [
       "array([[1, 1, 1],\n",
       "       [2, 2, 2],\n",
       "       [3, 3, 3]])"
      ]
     },
     "execution_count": 44,
     "metadata": {},
     "output_type": "execute_result"
    }
   ],
   "source": [
    "t = np.array([[1,1,1],[2,2,2],[3,3,3]])\n",
    "t"
   ]
  },
  {
   "cell_type": "code",
   "execution_count": 45,
   "id": "45193e78",
   "metadata": {},
   "outputs": [
    {
     "data": {
      "text/plain": [
       "array([[1, 2, 3],\n",
       "       [1, 2, 3],\n",
       "       [1, 2, 3]])"
      ]
     },
     "execution_count": 45,
     "metadata": {},
     "output_type": "execute_result"
    }
   ],
   "source": [
    "t.T"
   ]
  },
  {
   "cell_type": "code",
   "execution_count": 46,
   "id": "9b4a45ac",
   "metadata": {},
   "outputs": [
    {
     "data": {
      "text/plain": [
       "array([[ 3,  6,  9],\n",
       "       [ 6, 12, 18],\n",
       "       [ 9, 18, 27]])"
      ]
     },
     "execution_count": 46,
     "metadata": {},
     "output_type": "execute_result"
    }
   ],
   "source": [
    "np.dot(t,t.T)\n"
   ]
  },
  {
   "cell_type": "markdown",
   "id": "92f65ddb",
   "metadata": {},
   "source": [
    "## why is error handling important?\n",
    "Make sure something doesn't stop\n"
   ]
  },
  {
   "cell_type": "code",
   "execution_count": 62,
   "id": "4c81b8be",
   "metadata": {},
   "outputs": [],
   "source": [
    "def countdown(n):\n",
    "    #print(n)\n",
    "    #count backwards from n until we get to 0\n",
    "    if n>0:\n",
    "        #stuff\n",
    "        #print(n)\n",
    "        countdown(n-1)\n",
    "        # if you print after you call the function again\n",
    "        # it has to almost unwind until it gets to the \n",
    "        #stopping condition\n",
    "        #last in, first out (LIFO) stack\n",
    "    else:\n",
    "        return #stopping condition - terminates the recursion\n",
    "    print(n)"
   ]
  },
  {
   "cell_type": "code",
   "execution_count": 63,
   "id": "69e8febd",
   "metadata": {},
   "outputs": [
    {
     "name": "stdout",
     "output_type": "stream",
     "text": [
      "1\n",
      "2\n"
     ]
    }
   ],
   "source": [
    "countdown(2)"
   ]
  },
  {
   "cell_type": "code",
   "execution_count": null,
   "id": "a107179a",
   "metadata": {},
   "outputs": [],
   "source": []
  }
 ],
 "metadata": {
  "kernelspec": {
   "display_name": "Python 3 (ipykernel)",
   "language": "python",
   "name": "python3"
  },
  "language_info": {
   "codemirror_mode": {
    "name": "ipython",
    "version": 3
   },
   "file_extension": ".py",
   "mimetype": "text/x-python",
   "name": "python",
   "nbconvert_exporter": "python",
   "pygments_lexer": "ipython3",
   "version": "3.9.7"
  }
 },
 "nbformat": 4,
 "nbformat_minor": 5
}
