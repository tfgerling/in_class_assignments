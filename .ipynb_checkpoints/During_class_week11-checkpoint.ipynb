{
 "cells": [
  {
   "cell_type": "code",
   "execution_count": 1,
   "id": "6d7dbd19",
   "metadata": {},
   "outputs": [],
   "source": [
    "def countdown(n):\n",
    "    #if we print here we get n, n-1, n-2, ...0\n",
    "    print(n)\n",
    "    #count backwards from n until we get to 0\n",
    "    if n>0:\n",
    "        #call function again\n",
    "        countdown(n-1)\n",
    "        # if you print after you call the function again\n",
    "        # it has to almost unwind until it gets to the\n",
    "        #stopping condition\n",
    "        #last in, first out (LIFO) stack\n",
    "        #print(n)\n",
    "    else:\n",
    "        return #stopping condition - terminates the recursion\n",
    "    #if we print here we get n, n-1, n-2, ... (and no 0)\n",
    "    #print(n)"
   ]
  },
  {
   "cell_type": "code",
   "execution_count": 2,
   "id": "5513f8b9",
   "metadata": {},
   "outputs": [
    {
     "name": "stdout",
     "output_type": "stream",
     "text": [
      "2\n",
      "1\n",
      "0\n"
     ]
    }
   ],
   "source": [
    "countdown(2)"
   ]
  },
  {
   "cell_type": "markdown",
   "id": "37e0099e",
   "metadata": {},
   "source": [
    "## What is recursion?\n",
    "A function that calls itself is said to be recursive, and the technique of employing a recursive function is called recursion."
   ]
  },
  {
   "cell_type": "markdown",
   "id": "bcab5afa",
   "metadata": {},
   "source": [
    "#not right\n",
    "#need a global variable defined to hold the value being checked against(original)\n",
    "\n",
    "def RecurMulti(m):\n",
    "    square = m**2\n",
    "    print(square)\n",
    "    #multiply\n",
    "    n=m*2\n",
    "    \n",
    "    #check if there\n",
    "    while n < square:\n",
    "        RecurMulti(n)\n",
    "    else:\n",
    "        return\n",
    "    #if condition not met, call RecurMulti again with updated numbers\n",
    "    #else (condition met), return/print \n",
    "    "
   ]
  },
  {
   "cell_type": "markdown",
   "id": "dafd75bb",
   "metadata": {},
   "source": [
    "RecurMulti(5)\n"
   ]
  },
  {
   "cell_type": "code",
   "execution_count": null,
   "id": "e7fd4024",
   "metadata": {},
   "outputs": [],
   "source": [
    "x = 0\n",
    "\n",
    "def foo(z):\n",
    "    \n",
    "    global x\n",
    " \n",
    "    y = z * 2\n",
    "    print(y)\n",
    "    print(z)\n",
    "    if y >= z*z:\n",
    "        return\n",
    "    else:\n",
    "        x=z*z\n",
    "        foo(z*2)\n",
    "        print(x)\n",
    "        print(y)\n",
    "        print(z)\n",
    "   \n",
    "\n"
   ]
  },
  {
   "cell_type": "code",
   "execution_count": null,
   "id": "882ce979",
   "metadata": {},
   "outputs": [],
   "source": [
    "foo(5)"
   ]
  },
  {
   "cell_type": "markdown",
   "id": "8e2d6db5",
   "metadata": {},
   "source": [
    "## Time series Analysis\n"
   ]
  },
  {
   "cell_type": "markdown",
   "id": "83ea2e3a",
   "metadata": {},
   "source": [
    "How we understand real world dynamics/phenomenom\n",
    "Time series data - Sequence of data taken at points in time (ideally equally spaced)\n",
    "\n",
    "\n",
    "- SES\n",
    "- ARMA\n",
    "- ARIMA\n",
    "- SARIMA\n",
    "- ARCH\n",
    "- GARCH\n",
    "\n",
    "Exponential Smoothing (ES) - no clear trend or pattern, damping factor (alpha), trying to predict new values based on previous values - takes into account prediction and actual\n",
    "\n",
    "Autoregression (AR) - past values are used to predict future ones, correlation between past and future\n",
    "\n",
    "Order of Integration (I) - used to make a series stationary\n",
    "\n",
    "Seasonality (S) - pattern occurs at a regular interval\n",
    "\n"
   ]
  },
  {
   "cell_type": "code",
   "execution_count": 3,
   "id": "045f4c24",
   "metadata": {},
   "outputs": [],
   "source": [
    "from statsmodels.graphics.tsaplots import plot_acf, plot_pacf\n"
   ]
  },
  {
   "cell_type": "code",
   "execution_count": 4,
   "id": "68cadbc8",
   "metadata": {},
   "outputs": [],
   "source": [
    "from statsmodels.tsa.arima_model import ARMA\n"
   ]
  },
  {
   "cell_type": "code",
   "execution_count": 8,
   "id": "49fb0802",
   "metadata": {},
   "outputs": [
    {
     "data": {
      "text/html": [
       "<div>\n",
       "<style scoped>\n",
       "    .dataframe tbody tr th:only-of-type {\n",
       "        vertical-align: middle;\n",
       "    }\n",
       "\n",
       "    .dataframe tbody tr th {\n",
       "        vertical-align: top;\n",
       "    }\n",
       "\n",
       "    .dataframe thead th {\n",
       "        text-align: right;\n",
       "    }\n",
       "</style>\n",
       "<table border=\"1\" class=\"dataframe\">\n",
       "  <thead>\n",
       "    <tr style=\"text-align: right;\">\n",
       "      <th></th>\n",
       "      <th>Open</th>\n",
       "      <th>High</th>\n",
       "      <th>Low</th>\n",
       "      <th>Close</th>\n",
       "      <th>Volume</th>\n",
       "      <th>Stock Trading</th>\n",
       "    </tr>\n",
       "    <tr>\n",
       "      <th>Date</th>\n",
       "      <th></th>\n",
       "      <th></th>\n",
       "      <th></th>\n",
       "      <th></th>\n",
       "      <th></th>\n",
       "      <th></th>\n",
       "    </tr>\n",
       "  </thead>\n",
       "  <tbody>\n",
       "    <tr>\n",
       "      <th>2016-12-30</th>\n",
       "      <td>42120</td>\n",
       "      <td>42330</td>\n",
       "      <td>41700</td>\n",
       "      <td>41830</td>\n",
       "      <td>610000</td>\n",
       "      <td>25628028000</td>\n",
       "    </tr>\n",
       "    <tr>\n",
       "      <th>2016-12-29</th>\n",
       "      <td>43000</td>\n",
       "      <td>43220</td>\n",
       "      <td>42540</td>\n",
       "      <td>42660</td>\n",
       "      <td>448400</td>\n",
       "      <td>19188227000</td>\n",
       "    </tr>\n",
       "    <tr>\n",
       "      <th>2016-12-28</th>\n",
       "      <td>43940</td>\n",
       "      <td>43970</td>\n",
       "      <td>43270</td>\n",
       "      <td>43270</td>\n",
       "      <td>339900</td>\n",
       "      <td>14780670000</td>\n",
       "    </tr>\n",
       "    <tr>\n",
       "      <th>2016-12-27</th>\n",
       "      <td>43140</td>\n",
       "      <td>43700</td>\n",
       "      <td>43140</td>\n",
       "      <td>43620</td>\n",
       "      <td>400100</td>\n",
       "      <td>17427993000</td>\n",
       "    </tr>\n",
       "    <tr>\n",
       "      <th>2016-12-26</th>\n",
       "      <td>43310</td>\n",
       "      <td>43660</td>\n",
       "      <td>43090</td>\n",
       "      <td>43340</td>\n",
       "      <td>358200</td>\n",
       "      <td>15547803000</td>\n",
       "    </tr>\n",
       "  </tbody>\n",
       "</table>\n",
       "</div>"
      ],
      "text/plain": [
       "             Open   High    Low  Close  Volume  Stock Trading\n",
       "Date                                                         \n",
       "2016-12-30  42120  42330  41700  41830  610000    25628028000\n",
       "2016-12-29  43000  43220  42540  42660  448400    19188227000\n",
       "2016-12-28  43940  43970  43270  43270  339900    14780670000\n",
       "2016-12-27  43140  43700  43140  43620  400100    17427993000\n",
       "2016-12-26  43310  43660  43090  43340  358200    15547803000"
      ]
     },
     "execution_count": 8,
     "metadata": {},
     "output_type": "execute_result"
    }
   ],
   "source": [
    "import pandas as pd\n",
    "import matplotlib.pyplot as plt\n",
    "import numpy as np\n",
    "import os\n",
    "df=pd.read_csv('uniqlo_stock_2012-2016.csv',parse_dates=True, index_col='Date')\n",
    "df.head()"
   ]
  },
  {
   "cell_type": "markdown",
   "id": "a73c13be",
   "metadata": {},
   "source": [
    "# Intro to Fourier Analysis"
   ]
  },
  {
   "cell_type": "code",
   "execution_count": 15,
   "id": "3561deaf",
   "metadata": {},
   "outputs": [
    {
     "data": {
      "image/png": "[encoded data removed]",
      "text/plain": [
       "<Figure size 432x288 with 1 Axes>"
      ]
     },
     "metadata": {
      "needs_background": "light"
     },
     "output_type": "display_data"
    }
   ],
   "source": [
    "from scipy import signal\n",
    "x = np.arange(1,100,1)\n",
    "y=np.sin(x/3)\n",
    "plt.plot(x,y)\n",
    "plt.xlabel('Time')\n",
    "plt.ylabel('Intensity')\n",
    "plt.show()"
   ]
  },
  {
   "cell_type": "code",
   "execution_count": 16,
   "id": "0f6b6931",
   "metadata": {},
   "outputs": [
    {
     "data": {
      "image/png": "[encoded data removed]",
      "text/plain": [
       "<Figure size 432x288 with 1 Axes>"
      ]
     },
     "metadata": {
      "needs_background": "light"
     },
     "output_type": "display_data"
    }
   ],
   "source": [
    "#power spectral density\n",
    "psd = np.abs(np.fft.rfft(y))\n",
    "\n",
    "freqs = np.fft.rfftfreq(len(y))\n",
    "plt.plot(freqs,psd)\n",
    "#amplitude\n",
    "plt.axvline(1/(6*np.pi),c='y')\n",
    "plt.xlabel('Frequency')\n",
    "plt.ylabel('Intensity')\n",
    "plt.show()"
   ]
  },
  {
   "cell_type": "code",
   "execution_count": null,
   "id": "fdb0460f",
   "metadata": {},
   "outputs": [],
   "source": []
  }
 ],
 "metadata": {
  "kernelspec": {
   "display_name": "Python 3 (ipykernel)",
   "language": "python",
   "name": "python3"
  },
  "language_info": {
   "codemirror_mode": {
    "name": "ipython",
    "version": 3
   },
   "file_extension": ".py",
   "mimetype": "text/x-python",
   "name": "python",
   "nbconvert_exporter": "python",
   "pygments_lexer": "ipython3",
   "version": "3.9.7"
  }
 },
 "nbformat": 4,
 "nbformat_minor": 5
}
