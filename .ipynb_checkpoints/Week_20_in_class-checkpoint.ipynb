{
 "cells": [
  {
   "cell_type": "markdown",
   "id": "0a77e344",
   "metadata": {},
   "source": [
    "## Week 20"
   ]
  },
  {
   "cell_type": "markdown",
   "id": "3926d42d",
   "metadata": {},
   "source": [
    "### 1. Take the result of the following line of code (but use whatever available text you want) and write a function to concatenate the data back into sentences, with one readable sentence in each list.\n",
    "sentences = nltk.corpus.gutenberg.sents(\"carroll-alice.txt\")[:10]"
   ]
  },
  {
   "cell_type": "markdown",
   "id": "57620dfc",
   "metadata": {},
   "source": [
    "Import nltk and pull back first 10 sentences"
   ]
  },
  {
   "cell_type": "code",
   "execution_count": 1,
   "id": "6cec58db",
   "metadata": {},
   "outputs": [],
   "source": [
    "import nltk\n",
    "from nltk.tokenize import word_tokenize\n",
    "sentences = nltk.corpus.gutenberg.sents(\"carroll-alice.txt\")[:10]"
   ]
  },
  {
   "cell_type": "markdown",
   "id": "31535ec9",
   "metadata": {},
   "source": [
    "Print the sentences to see what we have"
   ]
  },
  {
   "cell_type": "code",
   "execution_count": 2,
   "id": "34e1f496",
   "metadata": {},
   "outputs": [
    {
     "name": "stdout",
     "output_type": "stream",
     "text": [
      "[['[', 'Alice', \"'\", 's', 'Adventures', 'in', 'Wonderland', 'by', 'Lewis', 'Carroll', '1865', ']'], ['CHAPTER', 'I', '.'], ['Down', 'the', 'Rabbit', '-', 'Hole'], ['Alice', 'was', 'beginning', 'to', 'get', 'very', 'tired', 'of', 'sitting', 'by', 'her', 'sister', 'on', 'the', 'bank', ',', 'and', 'of', 'having', 'nothing', 'to', 'do', ':', 'once', 'or', 'twice', 'she', 'had', 'peeped', 'into', 'the', 'book', 'her', 'sister', 'was', 'reading', ',', 'but', 'it', 'had', 'no', 'pictures', 'or', 'conversations', 'in', 'it', ',', \"'\", 'and', 'what', 'is', 'the', 'use', 'of', 'a', 'book', \",'\", 'thought', 'Alice', \"'\", 'without', 'pictures', 'or', 'conversation', \"?'\"], ['So', 'she', 'was', 'considering', 'in', 'her', 'own', 'mind', '(', 'as', 'well', 'as', 'she', 'could', ',', 'for', 'the', 'hot', 'day', 'made', 'her', 'feel', 'very', 'sleepy', 'and', 'stupid', '),', 'whether', 'the', 'pleasure', 'of', 'making', 'a', 'daisy', '-', 'chain', 'would', 'be', 'worth', 'the', 'trouble', 'of', 'getting', 'up', 'and', 'picking', 'the', 'daisies', ',', 'when', 'suddenly', 'a', 'White', 'Rabbit', 'with', 'pink', 'eyes', 'ran', 'close', 'by', 'her', '.'], ['There', 'was', 'nothing', 'so', 'VERY', 'remarkable', 'in', 'that', ';', 'nor', 'did', 'Alice', 'think', 'it', 'so', 'VERY', 'much', 'out', 'of', 'the', 'way', 'to', 'hear', 'the', 'Rabbit', 'say', 'to', 'itself', ',', \"'\", 'Oh', 'dear', '!'], ['Oh', 'dear', '!'], ['I', 'shall', 'be', 'late', \"!'\"], ['(', 'when', 'she', 'thought', 'it', 'over', 'afterwards', ',', 'it', 'occurred', 'to', 'her', 'that', 'she', 'ought', 'to', 'have', 'wondered', 'at', 'this', ',', 'but', 'at', 'the', 'time', 'it', 'all', 'seemed', 'quite', 'natural', ');', 'but', 'when', 'the', 'Rabbit', 'actually', 'TOOK', 'A', 'WATCH', 'OUT', 'OF', 'ITS', 'WAISTCOAT', '-', 'POCKET', ',', 'and', 'looked', 'at', 'it', ',', 'and', 'then', 'hurried', 'on', ',', 'Alice', 'started', 'to', 'her', 'feet', ',', 'for', 'it', 'flashed', 'across', 'her', 'mind', 'that', 'she', 'had', 'never', 'before', 'seen', 'a', 'rabbit', 'with', 'either', 'a', 'waistcoat', '-', 'pocket', ',', 'or', 'a', 'watch', 'to', 'take', 'out', 'of', 'it', ',', 'and', 'burning', 'with', 'curiosity', ',', 'she', 'ran', 'across', 'the', 'field', 'after', 'it', ',', 'and', 'fortunately', 'was', 'just', 'in', 'time', 'to', 'see', 'it', 'pop', 'down', 'a', 'large', 'rabbit', '-', 'hole', 'under', 'the', 'hedge', '.'], ['In', 'another', 'moment', 'down', 'went', 'Alice', 'after', 'it', ',', 'never', 'once', 'considering', 'how', 'in', 'the', 'world', 'she', 'was', 'to', 'get', 'out', 'again', '.']]\n"
     ]
    }
   ],
   "source": [
    "print(sentences)"
   ]
  },
  {
   "cell_type": "markdown",
   "id": "84371a20",
   "metadata": {},
   "source": [
    "Looks like the first real sentence starts at offset 3 (the fourth sentence)"
   ]
  },
  {
   "cell_type": "code",
   "execution_count": 3,
   "id": "5110ed7e",
   "metadata": {},
   "outputs": [
    {
     "name": "stdout",
     "output_type": "stream",
     "text": [
      "['Alice', 'was', 'beginning', 'to', 'get', 'very', 'tired', 'of', 'sitting', 'by', 'her', 'sister', 'on', 'the', 'bank', ',', 'and', 'of', 'having', 'nothing', 'to', 'do', ':', 'once', 'or', 'twice', 'she', 'had', 'peeped', 'into', 'the', 'book', 'her', 'sister', 'was', 'reading', ',', 'but', 'it', 'had', 'no', 'pictures', 'or', 'conversations', 'in', 'it', ',', \"'\", 'and', 'what', 'is', 'the', 'use', 'of', 'a', 'book', \",'\", 'thought', 'Alice', \"'\", 'without', 'pictures', 'or', 'conversation', \"?'\"]\n"
     ]
    }
   ],
   "source": [
    "print(sentences[3])"
   ]
  },
  {
   "cell_type": "code",
   "execution_count": 4,
   "id": "ecb3fdbe",
   "metadata": {},
   "outputs": [],
   "source": [
    "def put_together(input_sent):\n",
    "    ''' This function puts the sentences back together'''\n",
    "    str1 = \" \"\n",
    "    out = []\n",
    "    # the join command puts the strings together but it needs to be in a list so it was appended to the output\n",
    "    out.append(str1.join(input_sent))\n",
    "    print(out)\n",
    "    return"
   ]
  },
  {
   "cell_type": "markdown",
   "id": "6b075983",
   "metadata": {},
   "source": [
    "Originally had this starting with the first real sentence (at 3) and going to 10. Trying to encompass it all now."
   ]
  },
  {
   "cell_type": "code",
   "execution_count": 6,
   "id": "6c248d00",
   "metadata": {},
   "outputs": [
    {
     "name": "stdout",
     "output_type": "stream",
     "text": [
      "[\"[ Alice ' s Adventures in Wonderland by Lewis Carroll 1865 ]\"]\n",
      "['CHAPTER I .']\n",
      "['Down the Rabbit - Hole']\n",
      "[\"Alice was beginning to get very tired of sitting by her sister on the bank , and of having nothing to do : once or twice she had peeped into the book her sister was reading , but it had no pictures or conversations in it , ' and what is the use of a book ,' thought Alice ' without pictures or conversation ?'\"]\n",
      "['So she was considering in her own mind ( as well as she could , for the hot day made her feel very sleepy and stupid ), whether the pleasure of making a daisy - chain would be worth the trouble of getting up and picking the daisies , when suddenly a White Rabbit with pink eyes ran close by her .']\n",
      "[\"There was nothing so VERY remarkable in that ; nor did Alice think it so VERY much out of the way to hear the Rabbit say to itself , ' Oh dear !\"]\n",
      "['Oh dear !']\n",
      "[\"I shall be late !'\"]\n",
      "['( when she thought it over afterwards , it occurred to her that she ought to have wondered at this , but at the time it all seemed quite natural ); but when the Rabbit actually TOOK A WATCH OUT OF ITS WAISTCOAT - POCKET , and looked at it , and then hurried on , Alice started to her feet , for it flashed across her mind that she had never before seen a rabbit with either a waistcoat - pocket , or a watch to take out of it , and burning with curiosity , she ran across the field after it , and fortunately was just in time to see it pop down a large rabbit - hole under the hedge .']\n",
      "['In another moment down went Alice after it , never once considering how in the world she was to get out again .']\n"
     ]
    }
   ],
   "source": [
    "for i in range(0,len(sentences)):\n",
    "    put_together(sentences[i])\n"
   ]
  },
  {
   "cell_type": "markdown",
   "id": "b6cc5e03",
   "metadata": {},
   "source": [
    "### 2. Create a function that accepts a list of values. Filter out all values that are numeric and return the new list.\n",
    "\n",
    "Input:\n",
    "[1,2,'a','b',7.6]\n",
    "output:\n",
    "[‘a’,’b’]"
   ]
  },
  {
   "cell_type": "code",
   "execution_count": 7,
   "id": "953b352e",
   "metadata": {},
   "outputs": [],
   "source": [
    "def value_list(list_in):\n",
    "    '''This function accepts a list of values and returns the non-numeric characters as a list'''\n",
    "    new_value_list = []\n",
    "    for string in list_in:\n",
    "        try:\n",
    "            if string.isalpha():\n",
    "                new_value_list.append(string)\n",
    "        except:\n",
    "            pass\n",
    "    print(new_value_list)"
   ]
  },
  {
   "cell_type": "code",
   "execution_count": 8,
   "id": "1066adad",
   "metadata": {},
   "outputs": [
    {
     "name": "stdout",
     "output_type": "stream",
     "text": [
      "['a', 'b']\n"
     ]
    }
   ],
   "source": [
    "value_list([1,2,'a','b',7.6])"
   ]
  },
  {
   "cell_type": "code",
   "execution_count": 10,
   "id": "59e7c3b6",
   "metadata": {},
   "outputs": [
    {
     "name": "stdout",
     "output_type": "stream",
     "text": [
      "['c']\n"
     ]
    }
   ],
   "source": [
    "value_list([1,2,3,4,7.6,'c'])"
   ]
  },
  {
   "cell_type": "code",
   "execution_count": null,
   "id": "85f4b6c2",
   "metadata": {},
   "outputs": [],
   "source": []
  }
 ],
 "metadata": {
  "kernelspec": {
   "display_name": "Python 3 (ipykernel)",
   "language": "python",
   "name": "python3"
  },
  "language_info": {
   "codemirror_mode": {
    "name": "ipython",
    "version": 3
   },
   "file_extension": ".py",
   "mimetype": "text/x-python",
   "name": "python",
   "nbconvert_exporter": "python",
   "pygments_lexer": "ipython3",
   "version": "3.9.7"
  }
 },
 "nbformat": 4,
 "nbformat_minor": 5
}
