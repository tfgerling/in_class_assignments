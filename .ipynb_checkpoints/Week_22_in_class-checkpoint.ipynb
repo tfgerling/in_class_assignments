{
 "cells": [
  {
   "cell_type": "markdown",
   "id": "e31b8a0e",
   "metadata": {},
   "source": [
    "# Week 22"
   ]
  },
  {
   "cell_type": "markdown",
   "id": "7586489b",
   "metadata": {},
   "source": [
    "### 1. Use Splinter and/or Beautiful Soup to scrape mercadolibre.com.mx or soundcloud.com or tripadvisor.com. You must programmatically click a link from the front page to go to another page of interest to you and then select at least 5 items from that page. The 5 items must be stored in a data structure that makes sense (dictionary, list, etc)."
   ]
  },
  {
   "cell_type": "code",
   "execution_count": 1,
   "id": "b10bcf16",
   "metadata": {
    "scrolled": true
   },
   "outputs": [
    {
     "name": "stderr",
     "output_type": "stream",
     "text": [
      "\n",
      "\n",
      "====== WebDriver manager ======\n",
      "Current google-chrome version is 98.0.4758\n",
      "Get LATEST chromedriver version for 98.0.4758 google-chrome\n",
      "Trying to download new driver from https://chromedriver.storage.googleapis.com/98.0.4758.102/chromedriver_win32.zip\n",
      "Driver has been saved in cache [C:\\Users\\13142\\.wdm\\drivers\\chromedriver\\win32\\98.0.4758.102]\n"
     ]
    }
   ],
   "source": [
    "from bs4 import BeautifulSoup as bs\n",
    "import requests\n",
    "import time\n",
    "from splinter import Browser\n",
    "from webdriver_manager.chrome import ChromeDriverManager\n",
    "\n",
    "executable_path = {'executable_path':ChromeDriverManager().install()}\n",
    "browser = Browser('chrome',**executable_path,headless=False)\n",
    "\n",
    "url = 'https://soundcloud.com/'\n",
    "\n",
    "#get page response\n",
    "response = requests.get(url)\n",
    "\n",
    "browser.visit(url)\n",
    "\n"
   ]
  },
  {
   "cell_type": "code",
   "execution_count": 2,
   "id": "6af49c51",
   "metadata": {},
   "outputs": [],
   "source": [
    "soup = bs(response.text,'html.parser')\n",
    "browser.links.find_by_partial_href('/home').click()\n"
   ]
  },
  {
   "cell_type": "code",
   "execution_count": 8,
   "id": "9bb1f001",
   "metadata": {},
   "outputs": [],
   "source": [
    "genre = browser.find_by_xpath(f'//*[@id=\"content\"]/div/div/div[1]/div[3]/div/ul/li[1]/div/div[2]/div[1]/div/div/div[1]/div/div[2]/a').text"
   ]
  },
  {
   "cell_type": "code",
   "execution_count": 9,
   "id": "4c6f3b13",
   "metadata": {},
   "outputs": [
    {
     "data": {
      "text/plain": [
       "'All music genres'"
      ]
     },
     "execution_count": 9,
     "metadata": {},
     "output_type": "execute_result"
    }
   ],
   "source": [
    "genre"
   ]
  },
  {
   "cell_type": "code",
   "execution_count": 18,
   "id": "a4c85d25",
   "metadata": {},
   "outputs": [
    {
     "name": "stdout",
     "output_type": "stream",
     "text": [
      "['All music genres', 'Hip-hop & Rap', 'Pop', 'R&B & Soul', 'Global Beats']\n"
     ]
    }
   ],
   "source": [
    "music_results=[]\n",
    "# using range from 1-6 to get 5 items from the page\n",
    "for i in range(1,6):\n",
    "    \n",
    "    try:\n",
    "        #find the text of the genre and save it as a variable\n",
    "        genre = browser.find_by_xpath(f'//*[@id=\"content\"]/div/div/div[1]/div[3]/div/ul/li[1]/div/div[2]/div[1]/div/div/div[{i}]/div/div[2]/a').text\n",
    "        #print(genre)\n",
    "        music_results.append(genre)\n",
    "    except AttributeError as e:\n",
    "        print(e)\n",
    "        \n",
    "print(music_results)"
   ]
  },
  {
   "cell_type": "markdown",
   "id": "2381cfe4",
   "metadata": {},
   "source": [
    "### 2. Share with your group how web scraping worked on the website and link you chose. Compare it with others. List the site you chose and two observations about parsing the website. Indicate if this was the same or different for the sites chosen by others."
   ]
  },
  {
   "cell_type": "markdown",
   "id": "cbf65a50",
   "metadata": {},
   "source": [
    "Abbie helped me through the assignment as I was struggling to pull back any information. Per notes from Angela, their group also used the same website (soundcloud.com) as well as the same link /home (which translated to /discover). Once there, I struggled to pull back any data at all. Per Angela, they struggled with extracting information as well. \n",
    "\n",
    "Site chosen: soundcloud.com/discover\n",
    "\n",
    "Parsing the website observations:\n",
    "- The information we were looking for was best handled by using xpath. In looking at the different xpaths, it appeared only one piece of the entire string was changing in this section so looping through with this variable changing allowed it to be pulled back.\n",
    "- Was not straightforward to grab the info we were looking for. Using divs and class_ did not work the way we expected. This website seems a little more complex with multiple more divs than other websites.\n",
    "\n",
    "For those I spoke to, they used the same site but used a different approach to pulling the data. Notes from Angela are below:\n",
    "\n",
    "- Example html: <span aria-label=\"Top 50: All music genres\" ... \n",
    "The syntax here was to call on aria-label as though it were an index inside of span:\n",
    "div.find('span')['aria-label'] (There was no need to use .text in this case.)\n",
    "Another difficulty was extracting a url embedded in a larger string:\n",
    "- Example html: 'background-image: url(\"https://i1.sndcdn.com/artworks-3MZHy2YEhMd3-0-t200x200.jpg\"); width: 100%; height: 100%; opacity: 0;'\n",
    "The only way to access this was with regex syntax (re.search('http.*jpg', div.find('span')['style']).group(0))\n",
    "                      \n",
    "Using xpath instead of the approach they used appeared to be a simpler approach."
   ]
  },
  {
   "cell_type": "code",
   "execution_count": null,
   "id": "7359c02b",
   "metadata": {},
   "outputs": [],
   "source": []
  }
 ],
 "metadata": {
  "kernelspec": {
   "display_name": "Python 3 (ipykernel)",
   "language": "python",
   "name": "python3"
  },
  "language_info": {
   "codemirror_mode": {
    "name": "ipython",
    "version": 3
   },
   "file_extension": ".py",
   "mimetype": "text/x-python",
   "name": "python",
   "nbconvert_exporter": "python",
   "pygments_lexer": "ipython3",
   "version": "3.9.7"
  }
 },
 "nbformat": 4,
 "nbformat_minor": 5
}
