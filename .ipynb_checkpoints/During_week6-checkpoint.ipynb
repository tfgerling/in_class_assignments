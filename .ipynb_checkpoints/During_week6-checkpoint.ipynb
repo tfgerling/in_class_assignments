{
 "cells": [
  {
   "cell_type": "markdown",
   "id": "cdd3a175",
   "metadata": {},
   "source": [
    "In database systems, ACID (Atomicity, Consistency, Isolation, Durability) refers to a standard set of properties that guarantee database transactions are processed reliably.\n",
    "\n",
    "ACID is especially concerned with how a database recovers from any failure that might occur while processing a transaction.\n",
    "\n",
    "An ACID-compliant DBMS ensures that the data in the database remains accurate and consistent despite any such failures.\n",
    "\n",
    "ACID - Atomicity, Consistency, Isolation, Durability - rigorous standards for handling data"
   ]
  },
  {
   "cell_type": "markdown",
   "id": "4e421cdb",
   "metadata": {},
   "source": [
    "Python is format specific, SQL - parenthesis and key words\n",
    "easier to see what is wrong in SQL\n",
    "command set is easier to pick up in SQL - more intuitive\n",
    "they have different purposes - can use SQL to do some of the same things actually \n",
    "Alexis - SQL is set based (groups of data), Python is procedural (line by line)\n"
   ]
  },
  {
   "cell_type": "markdown",
   "id": "d86e3211",
   "metadata": {},
   "source": [
    "c - each a must be connected to a b, each b can be connected to none to many a's\n",
    "d - each a must be connected to one to many b's, each b must be connected to one to many a's"
   ]
  },
  {
   "cell_type": "markdown",
   "id": "42108f5c",
   "metadata": {},
   "source": [
    "FAIR - Findable, Accessible, Interoperable, Reusable - Rule of thumb for what data documentation needs to achieve"
   ]
  },
  {
   "cell_type": "markdown",
   "id": "bbba2285",
   "metadata": {},
   "source": [
    "subqueries can go in the select, from or where clauses - just about anywhere - don't use them that often"
   ]
  }
 ],
 "metadata": {
  "kernelspec": {
   "display_name": "Python 3 (ipykernel)",
   "language": "python",
   "name": "python3"
  },
  "language_info": {
   "codemirror_mode": {
    "name": "ipython",
    "version": 3
   },
   "file_extension": ".py",
   "mimetype": "text/x-python",
   "name": "python",
   "nbconvert_exporter": "python",
   "pygments_lexer": "ipython3",
   "version": "3.9.7"
  }
 },
 "nbformat": 4,
 "nbformat_minor": 5
}
