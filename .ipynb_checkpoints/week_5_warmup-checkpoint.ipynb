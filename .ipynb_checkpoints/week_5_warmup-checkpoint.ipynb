{
 "cells": [
  {
   "cell_type": "markdown",
   "id": "c6634a50",
   "metadata": {},
   "source": [
    "new warm up"
   ]
  },
  {
   "cell_type": "code",
   "execution_count": 10,
   "id": "1d8e8abe",
   "metadata": {},
   "outputs": [
    {
     "data": {
      "text/html": [
       "<div>\n",
       "<style scoped>\n",
       "    .dataframe tbody tr th:only-of-type {\n",
       "        vertical-align: middle;\n",
       "    }\n",
       "\n",
       "    .dataframe tbody tr th {\n",
       "        vertical-align: top;\n",
       "    }\n",
       "\n",
       "    .dataframe thead th {\n",
       "        text-align: right;\n",
       "    }\n",
       "</style>\n",
       "<table border=\"1\" class=\"dataframe\">\n",
       "  <thead>\n",
       "    <tr style=\"text-align: right;\">\n",
       "      <th></th>\n",
       "      <th>Count of properties per host</th>\n",
       "      <th>Minimum price</th>\n",
       "    </tr>\n",
       "  </thead>\n",
       "  <tbody>\n",
       "    <tr>\n",
       "      <th>150789</th>\n",
       "      <td>1</td>\n",
       "      <td>40</td>\n",
       "    </tr>\n",
       "    <tr>\n",
       "      <th>157752</th>\n",
       "      <td>5</td>\n",
       "      <td>71</td>\n",
       "    </tr>\n",
       "    <tr>\n",
       "      <th>345885</th>\n",
       "      <td>4</td>\n",
       "      <td>111</td>\n",
       "    </tr>\n",
       "    <tr>\n",
       "      <th>562206</th>\n",
       "      <td>2</td>\n",
       "      <td>232</td>\n",
       "    </tr>\n",
       "    <tr>\n",
       "      <th>563377</th>\n",
       "      <td>1</td>\n",
       "      <td>191</td>\n",
       "    </tr>\n",
       "  </tbody>\n",
       "</table>\n",
       "</div>"
      ],
      "text/plain": [
       "        Count of properties per host  Minimum price\n",
       "150789                             1             40\n",
       "157752                             5             71\n",
       "345885                             4            111\n",
       "562206                             2            232\n",
       "563377                             1            191"
      ]
     },
     "execution_count": 10,
     "metadata": {},
     "output_type": "execute_result"
    }
   ],
   "source": [
    "import pandas as pd\n",
    "import numpy as np\n",
    "\n",
    "belize_df = pd.read_csv(\"belize_airbnb_listings.csv\")\n",
    "\n",
    "host_count = belize_df[\"host_id\"].value_counts()\n",
    "\n",
    "belize_groupby = belize_df.groupby(\"host_id\")[\"price\"].min()                                      \n",
    "belize_groupby\n",
    "\n",
    "host_demo = pd.DataFrame({\"Count of properties per host\": host_count,\n",
    "                         \"Minimum price\": belize_groupby})\n",
    "host_demo.head()"
   ]
  },
  {
   "cell_type": "code",
   "execution_count": null,
   "id": "393c536f",
   "metadata": {},
   "outputs": [],
   "source": [
    "#CSV = comma separated values\n",
    "#delimiter = separates the values - like ; or , or :\n",
    "#gender_demog['Percentage of Players']=gender_demog['Percentage of Players'].map(\"{:,.2f}%\".format)\n"
   ]
  }
 ],
 "metadata": {
  "kernelspec": {
   "display_name": "Python 3 (ipykernel)",
   "language": "python",
   "name": "python3"
  },
  "language_info": {
   "codemirror_mode": {
    "name": "ipython",
    "version": 3
   },
   "file_extension": ".py",
   "mimetype": "text/x-python",
   "name": "python",
   "nbconvert_exporter": "python",
   "pygments_lexer": "ipython3",
   "version": "3.9.7"
  }
 },
 "nbformat": 4,
 "nbformat_minor": 5
}
