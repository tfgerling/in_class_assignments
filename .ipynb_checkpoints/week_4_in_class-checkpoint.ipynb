{
 "cells": [
  {
   "cell_type": "markdown",
   "id": "ea415846",
   "metadata": {},
   "source": [
    "#1 Importing and creating a new dataframe"
   ]
  },
  {
   "cell_type": "code",
   "execution_count": 45,
   "id": "34fc91c2",
   "metadata": {},
   "outputs": [
    {
     "data": {
      "text/html": [
       "<div>\n",
       "<style scoped>\n",
       "    .dataframe tbody tr th:only-of-type {\n",
       "        vertical-align: middle;\n",
       "    }\n",
       "\n",
       "    .dataframe tbody tr th {\n",
       "        vertical-align: top;\n",
       "    }\n",
       "\n",
       "    .dataframe thead th {\n",
       "        text-align: right;\n",
       "    }\n",
       "</style>\n",
       "<table border=\"1\" class=\"dataframe\">\n",
       "  <thead>\n",
       "    <tr style=\"text-align: right;\">\n",
       "      <th></th>\n",
       "      <th>price</th>\n",
       "      <th>number_of_reviews</th>\n",
       "      <th>availability_365</th>\n",
       "    </tr>\n",
       "    <tr>\n",
       "      <th>neighbourhood</th>\n",
       "      <th></th>\n",
       "      <th></th>\n",
       "      <th></th>\n",
       "    </tr>\n",
       "  </thead>\n",
       "  <tbody>\n",
       "    <tr>\n",
       "      <th>Belize Islands</th>\n",
       "      <td>399.442824</td>\n",
       "      <td>17.647736</td>\n",
       "      <td>295.970837</td>\n",
       "    </tr>\n",
       "    <tr>\n",
       "      <th>Belize Mainland</th>\n",
       "      <td>288.273063</td>\n",
       "      <td>15.147601</td>\n",
       "      <td>261.014760</td>\n",
       "    </tr>\n",
       "    <tr>\n",
       "      <th>Cayo</th>\n",
       "      <td>205.847525</td>\n",
       "      <td>14.566337</td>\n",
       "      <td>259.249505</td>\n",
       "    </tr>\n",
       "    <tr>\n",
       "      <th>Corozal</th>\n",
       "      <td>156.553846</td>\n",
       "      <td>7.569231</td>\n",
       "      <td>278.676923</td>\n",
       "    </tr>\n",
       "    <tr>\n",
       "      <th>Orange Walk</th>\n",
       "      <td>122.035714</td>\n",
       "      <td>14.821429</td>\n",
       "      <td>261.928571</td>\n",
       "    </tr>\n",
       "    <tr>\n",
       "      <th>Stann Creek Islands</th>\n",
       "      <td>1136.166667</td>\n",
       "      <td>5.750000</td>\n",
       "      <td>248.083333</td>\n",
       "    </tr>\n",
       "    <tr>\n",
       "      <th>Stann Creek Mainland</th>\n",
       "      <td>456.994690</td>\n",
       "      <td>8.470796</td>\n",
       "      <td>277.872566</td>\n",
       "    </tr>\n",
       "    <tr>\n",
       "      <th>Toledo Mainland</th>\n",
       "      <td>222.978723</td>\n",
       "      <td>4.127660</td>\n",
       "      <td>234.744681</td>\n",
       "    </tr>\n",
       "  </tbody>\n",
       "</table>\n",
       "</div>"
      ],
      "text/plain": [
       "                            price  number_of_reviews  availability_365\n",
       "neighbourhood                                                         \n",
       "Belize Islands         399.442824          17.647736        295.970837\n",
       "Belize Mainland        288.273063          15.147601        261.014760\n",
       "Cayo                   205.847525          14.566337        259.249505\n",
       "Corozal                156.553846           7.569231        278.676923\n",
       "Orange Walk            122.035714          14.821429        261.928571\n",
       "Stann Creek Islands   1136.166667           5.750000        248.083333\n",
       "Stann Creek Mainland   456.994690           8.470796        277.872566\n",
       "Toledo Mainland        222.978723           4.127660        234.744681"
      ]
     },
     "execution_count": 45,
     "metadata": {},
     "output_type": "execute_result"
    }
   ],
   "source": [
    "import pandas as pd\n",
    "belize_df = pd.read_csv(\"belize_airbnb_listings.csv\")\n",
    "\n",
    "#my_dict ={\"price\":[belize_groupby[\"price\"].mean()],\n",
    "#          \"number_of_reviews\": [belize_groupby[\"number_of_reviews\"].mean()],\n",
    "#           \"availability_365\": [belize_groupby[\"availability_365\"].mean()]}\n",
    "#\n",
    "my_df_2 = belize_groupby[[\"price\", \"number_of_reviews\", \"availability_365\"]].mean()\n",
    "\n",
    "my_df_2"
   ]
  },
  {
   "cell_type": "markdown",
   "id": "0ecb978c",
   "metadata": {},
   "source": [
    "#2 - create a new list from the square of each value"
   ]
  },
  {
   "cell_type": "code",
   "execution_count": 34,
   "id": "41f07c82",
   "metadata": {},
   "outputs": [
    {
     "name": "stdout",
     "output_type": "stream",
     "text": [
      "[4, 16, 36, 64, 100, 144, 196]\n"
     ]
    }
   ],
   "source": [
    "og_list=[2,4,6,8,10,12,14]\n",
    "new_list = [x**2 for x in og_list]\n",
    "print(new_list)"
   ]
  },
  {
   "cell_type": "markdown",
   "id": "722efaa4",
   "metadata": {},
   "source": [
    "#3 - take the same list and create a new one where each value is 2/3"
   ]
  },
  {
   "cell_type": "code",
   "execution_count": 35,
   "id": "5d610b2f",
   "metadata": {},
   "outputs": [
    {
     "name": "stdout",
     "output_type": "stream",
     "text": [
      "[1.3333333333333333, 2.6666666666666665, 4.0, 5.333333333333333, 6.666666666666667, 8.0, 9.333333333333334]\n"
     ]
    }
   ],
   "source": [
    "og_list=[2,4,6,8,10,12,14]\n",
    "new_list = [x*2/3 for x in og_list]\n",
    "print(new_list)"
   ]
  },
  {
   "cell_type": "markdown",
   "id": "816181c1",
   "metadata": {},
   "source": [
    "#4 - list comprehension to lowercase all the keys - chose list comprehension as that was where we were focused and we got a little assistance from Franscesca (I'm sure I misspelled her name)"
   ]
  },
  {
   "cell_type": "code",
   "execution_count": 44,
   "id": "15c879a6",
   "metadata": {},
   "outputs": [
    {
     "data": {
      "text/plain": [
       "{'apples': 1500,\n",
       " 'cranberries': 2000,\n",
       " 'pears': 2500,\n",
       " 'cherries': 1600,\n",
       " 'plums': 2400,\n",
       " 'peaches': 13600,\n",
       " 'oranges': 7}"
      ]
     },
     "execution_count": 44,
     "metadata": {},
     "output_type": "execute_result"
    }
   ],
   "source": [
    "my_dict={\"Apples\":1500, \"Cranberries\":2000, \"Pears\":2500, \"Cherries\":1600,\"Plums\": 2400, \"Peaches\":13600,\"Oranges\":7}\n",
    "\n",
    "{key.lower():value for key,value in my_dict.items()}\n",
    "  "
   ]
  },
  {
   "cell_type": "code",
   "execution_count": null,
   "id": "26775bf0",
   "metadata": {},
   "outputs": [],
   "source": []
  }
 ],
 "metadata": {
  "kernelspec": {
   "display_name": "Python 3 (ipykernel)",
   "language": "python",
   "name": "python3"
  },
  "language_info": {
   "codemirror_mode": {
    "name": "ipython",
    "version": 3
   },
   "file_extension": ".py",
   "mimetype": "text/x-python",
   "name": "python",
   "nbconvert_exporter": "python",
   "pygments_lexer": "ipython3",
   "version": "3.9.7"
  }
 },
 "nbformat": 4,
 "nbformat_minor": 5
}
