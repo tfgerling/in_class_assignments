{
 "cells": [
  {
   "cell_type": "code",
   "execution_count": 10,
   "id": "f37086bd",
   "metadata": {},
   "outputs": [
    {
     "name": "stdout",
     "output_type": "stream",
     "text": [
      "Max number is 55\n"
     ]
    }
   ],
   "source": [
    "#function maxx will take in 3 numbers and return the max value of the 3\n",
    "def maxx(a,b,c):\n",
    "    if (c<=a>=b):\n",
    "        return a\n",
    "    elif (c<=b>=a):\n",
    "        return b\n",
    "    else:\n",
    "        return c\n",
    "    \n",
    "print('Max number is', maxx(50,55,20))"
   ]
  },
  {
   "cell_type": "code",
   "execution_count": 11,
   "id": "88985412",
   "metadata": {},
   "outputs": [
    {
     "name": "stdout",
     "output_type": "stream",
     "text": [
      "Max number is 55\n"
     ]
    }
   ],
   "source": [
    "def max_num(a,b,c):\n",
    "    # find max\n",
    "    x = max(a,b,c)\n",
    "    return x\n",
    "\n",
    "print('Max number is', maxx(50,55,20))"
   ]
  },
  {
   "cell_type": "markdown",
   "id": "e61e203c",
   "metadata": {},
   "source": [
    "include more comments along the way"
   ]
  },
  {
   "cell_type": "markdown",
   "id": "2e2bf236",
   "metadata": {},
   "source": [
    "nominal - no natural order - categorical\n",
    "ordinal - order matters - categorical - difference isn't obvious\n",
    "interval - order, difference between 2 values is meaninful\n",
    "ratio - similar to interval but has concept of 0 - no negative numbers"
   ]
  },
  {
   "cell_type": "markdown",
   "id": "4af77d41",
   "metadata": {},
   "source": [
    "central tendency - represents the center point or typical value of a dataset"
   ]
  },
  {
   "cell_type": "markdown",
   "id": "f02e7aa6",
   "metadata": {},
   "source": [
    "correlation coefficient aka r"
   ]
  },
  {
   "cell_type": "code",
   "execution_count": 12,
   "id": "01f2667a",
   "metadata": {},
   "outputs": [],
   "source": [
    "import pandas as pd\n",
    "import numpy as np\n",
    "\n",
    "#modules for statistics\n",
    "import math\n",
    "import statistics\n",
    "from scipy import stats\n"
   ]
  },
  {
   "cell_type": "markdown",
   "id": "319156fb",
   "metadata": {},
   "source": [
    "# Mean, Median, Mode and Central Tendency\n",
    "mean = average, balance point\n",
    "    = sum of all numbers / total number of values\n",
    "    = arithmetic mean\n",
    "    outliers impact mean a decent amount\n",
    "    \n",
    "median = middle number when all the values are put in order\n",
    "outliers don't impact the median very much\n",
    "\n",
    "mode = number that occurs most often\n"
   ]
  },
  {
   "cell_type": "code",
   "execution_count": 13,
   "id": "d6130c10",
   "metadata": {},
   "outputs": [],
   "source": [
    "belize_df = pd.read_csv(\"belize_airbnb_listings.csv\")\n"
   ]
  },
  {
   "cell_type": "code",
   "execution_count": 35,
   "id": "1003df0e",
   "metadata": {},
   "outputs": [
    {
     "data": {
      "text/html": [
       "<div>\n",
       "<style scoped>\n",
       "    .dataframe tbody tr th:only-of-type {\n",
       "        vertical-align: middle;\n",
       "    }\n",
       "\n",
       "    .dataframe tbody tr th {\n",
       "        vertical-align: top;\n",
       "    }\n",
       "\n",
       "    .dataframe thead th {\n",
       "        text-align: right;\n",
       "    }\n",
       "</style>\n",
       "<table border=\"1\" class=\"dataframe\">\n",
       "  <thead>\n",
       "    <tr style=\"text-align: right;\">\n",
       "      <th></th>\n",
       "      <th>id</th>\n",
       "      <th>name</th>\n",
       "      <th>host_id</th>\n",
       "      <th>host_name</th>\n",
       "      <th>neighbourhood_group</th>\n",
       "      <th>neighbourhood</th>\n",
       "      <th>latitude</th>\n",
       "      <th>longitude</th>\n",
       "      <th>room_type</th>\n",
       "      <th>price</th>\n",
       "      <th>minimum_nights</th>\n",
       "      <th>number_of_reviews</th>\n",
       "      <th>last_review</th>\n",
       "      <th>reviews_per_month</th>\n",
       "      <th>calculated_host_listings_count</th>\n",
       "      <th>availability_365</th>\n",
       "    </tr>\n",
       "  </thead>\n",
       "  <tbody>\n",
       "    <tr>\n",
       "      <th>0</th>\n",
       "      <td>36666</td>\n",
       "      <td>Mo's Cozy Casa w/ veranda &amp; access to dock</td>\n",
       "      <td>157752</td>\n",
       "      <td>Monique</td>\n",
       "      <td>Belize</td>\n",
       "      <td>Belize Islands</td>\n",
       "      <td>17.74786</td>\n",
       "      <td>-88.02398</td>\n",
       "      <td>Entire home/apt</td>\n",
       "      <td>141</td>\n",
       "      <td>3</td>\n",
       "      <td>250</td>\n",
       "      <td>2/23/2021</td>\n",
       "      <td>2.00</td>\n",
       "      <td>5</td>\n",
       "      <td>225</td>\n",
       "    </tr>\n",
       "    <tr>\n",
       "      <th>1</th>\n",
       "      <td>36690</td>\n",
       "      <td>Mo's Cozy Cabana w/ comfy veranda &amp; access to ...</td>\n",
       "      <td>157752</td>\n",
       "      <td>Monique</td>\n",
       "      <td>Belize</td>\n",
       "      <td>Belize Islands</td>\n",
       "      <td>17.74832</td>\n",
       "      <td>-88.02474</td>\n",
       "      <td>Entire home/apt</td>\n",
       "      <td>71</td>\n",
       "      <td>3</td>\n",
       "      <td>316</td>\n",
       "      <td>2/19/2021</td>\n",
       "      <td>2.46</td>\n",
       "      <td>5</td>\n",
       "      <td>164</td>\n",
       "    </tr>\n",
       "    <tr>\n",
       "      <th>2</th>\n",
       "      <td>108932</td>\n",
       "      <td>Purple House eco solar  w/ ocean &amp; wildlife views</td>\n",
       "      <td>563377</td>\n",
       "      <td>Michael</td>\n",
       "      <td>Belize</td>\n",
       "      <td>Belize Islands</td>\n",
       "      <td>17.73221</td>\n",
       "      <td>-88.03824</td>\n",
       "      <td>Entire home/apt</td>\n",
       "      <td>191</td>\n",
       "      <td>2</td>\n",
       "      <td>30</td>\n",
       "      <td>3/14/2020</td>\n",
       "      <td>0.78</td>\n",
       "      <td>1</td>\n",
       "      <td>364</td>\n",
       "    </tr>\n",
       "    <tr>\n",
       "      <th>3</th>\n",
       "      <td>110483</td>\n",
       "      <td>Michelo's fuchsia suite</td>\n",
       "      <td>567809</td>\n",
       "      <td>Michel</td>\n",
       "      <td>Stann Creek</td>\n",
       "      <td>Stann Creek Mainland</td>\n",
       "      <td>16.52114</td>\n",
       "      <td>-88.36926</td>\n",
       "      <td>Hotel room</td>\n",
       "      <td>121</td>\n",
       "      <td>1</td>\n",
       "      <td>27</td>\n",
       "      <td>2/24/2020</td>\n",
       "      <td>0.29</td>\n",
       "      <td>3</td>\n",
       "      <td>331</td>\n",
       "    </tr>\n",
       "    <tr>\n",
       "      <th>4</th>\n",
       "      <td>120115</td>\n",
       "      <td>Seaside Villas Second Floor Unit  #4</td>\n",
       "      <td>604999</td>\n",
       "      <td>Bobbi</td>\n",
       "      <td>Belize</td>\n",
       "      <td>Belize Islands</td>\n",
       "      <td>17.74166</td>\n",
       "      <td>-88.02395</td>\n",
       "      <td>Entire home/apt</td>\n",
       "      <td>343</td>\n",
       "      <td>1</td>\n",
       "      <td>30</td>\n",
       "      <td>3/18/2020</td>\n",
       "      <td>0.64</td>\n",
       "      <td>22</td>\n",
       "      <td>203</td>\n",
       "    </tr>\n",
       "  </tbody>\n",
       "</table>\n",
       "</div>"
      ],
      "text/plain": [
       "       id                                               name  host_id  \\\n",
       "0   36666         Mo's Cozy Casa w/ veranda & access to dock   157752   \n",
       "1   36690  Mo's Cozy Cabana w/ comfy veranda & access to ...   157752   \n",
       "2  108932  Purple House eco solar  w/ ocean & wildlife views   563377   \n",
       "3  110483                            Michelo's fuchsia suite   567809   \n",
       "4  120115               Seaside Villas Second Floor Unit  #4   604999   \n",
       "\n",
       "  host_name neighbourhood_group         neighbourhood  latitude  longitude  \\\n",
       "0   Monique              Belize        Belize Islands  17.74786  -88.02398   \n",
       "1   Monique              Belize        Belize Islands  17.74832  -88.02474   \n",
       "2   Michael              Belize        Belize Islands  17.73221  -88.03824   \n",
       "3    Michel         Stann Creek  Stann Creek Mainland  16.52114  -88.36926   \n",
       "4     Bobbi              Belize        Belize Islands  17.74166  -88.02395   \n",
       "\n",
       "         room_type  price  minimum_nights  number_of_reviews last_review  \\\n",
       "0  Entire home/apt    141               3                250   2/23/2021   \n",
       "1  Entire home/apt     71               3                316   2/19/2021   \n",
       "2  Entire home/apt    191               2                 30   3/14/2020   \n",
       "3       Hotel room    121               1                 27   2/24/2020   \n",
       "4  Entire home/apt    343               1                 30   3/18/2020   \n",
       "\n",
       "   reviews_per_month  calculated_host_listings_count  availability_365  \n",
       "0               2.00                               5               225  \n",
       "1               2.46                               5               164  \n",
       "2               0.78                               1               364  \n",
       "3               0.29                               3               331  \n",
       "4               0.64                              22               203  "
      ]
     },
     "execution_count": 35,
     "metadata": {},
     "output_type": "execute_result"
    }
   ],
   "source": [
    "belize_df.head()"
   ]
  },
  {
   "cell_type": "code",
   "execution_count": 23,
   "id": "23fd6aaf",
   "metadata": {},
   "outputs": [
    {
     "data": {
      "text/plain": [
       "price                357.102289\n",
       "minimum_nights         2.263948\n",
       "number_of_reviews     14.453505\n",
       "dtype: float64"
      ]
     },
     "execution_count": 23,
     "metadata": {},
     "output_type": "execute_result"
    }
   ],
   "source": [
    "#get price, minimum_nights, and number of reviews\n",
    "belize_df[[\"price\", \"minimum_nights\", \"number_of_reviews\"]].mean()"
   ]
  },
  {
   "cell_type": "code",
   "execution_count": 25,
   "id": "ae32ac91",
   "metadata": {},
   "outputs": [
    {
     "data": {
      "text/plain": [
       "price                220.0\n",
       "minimum_nights         2.0\n",
       "number_of_reviews      2.0\n",
       "dtype: float64"
      ]
     },
     "execution_count": 25,
     "metadata": {},
     "output_type": "execute_result"
    }
   ],
   "source": [
    "belize_df[[\"price\", \"minimum_nights\", \"number_of_reviews\"]].median()"
   ]
  },
  {
   "cell_type": "code",
   "execution_count": 26,
   "id": "6bf2cd5b",
   "metadata": {},
   "outputs": [
    {
     "data": {
      "text/html": [
       "<div>\n",
       "<style scoped>\n",
       "    .dataframe tbody tr th:only-of-type {\n",
       "        vertical-align: middle;\n",
       "    }\n",
       "\n",
       "    .dataframe tbody tr th {\n",
       "        vertical-align: top;\n",
       "    }\n",
       "\n",
       "    .dataframe thead th {\n",
       "        text-align: right;\n",
       "    }\n",
       "</style>\n",
       "<table border=\"1\" class=\"dataframe\">\n",
       "  <thead>\n",
       "    <tr style=\"text-align: right;\">\n",
       "      <th></th>\n",
       "      <th>price</th>\n",
       "      <th>minimum_nights</th>\n",
       "      <th>number_of_reviews</th>\n",
       "    </tr>\n",
       "  </thead>\n",
       "  <tbody>\n",
       "    <tr>\n",
       "      <th>0</th>\n",
       "      <td>151</td>\n",
       "      <td>1.0</td>\n",
       "      <td>0.0</td>\n",
       "    </tr>\n",
       "    <tr>\n",
       "      <th>1</th>\n",
       "      <td>252</td>\n",
       "      <td>NaN</td>\n",
       "      <td>NaN</td>\n",
       "    </tr>\n",
       "  </tbody>\n",
       "</table>\n",
       "</div>"
      ],
      "text/plain": [
       "   price  minimum_nights  number_of_reviews\n",
       "0    151             1.0                0.0\n",
       "1    252             NaN                NaN"
      ]
     },
     "execution_count": 26,
     "metadata": {},
     "output_type": "execute_result"
    }
   ],
   "source": [
    "belize_df[[\"price\", \"minimum_nights\", \"number_of_reviews\"]].mode()"
   ]
  },
  {
   "cell_type": "code",
   "execution_count": 27,
   "id": "bcf19d7d",
   "metadata": {},
   "outputs": [
    {
     "data": {
      "text/plain": [
       "Text(0, 0.5, 'frequency')"
      ]
     },
     "execution_count": 27,
     "metadata": {},
     "output_type": "execute_result"
    },
    {
     "data": {
      "image/png": "[encoded data removed]",
      "text/plain": [
       "<Figure size 432x288 with 1 Axes>"
      ]
     },
     "metadata": {
      "needs_background": "light"
     },
     "output_type": "display_data"
    }
   ],
   "source": [
    "import matplotlib.pyplot as plt\n",
    "n, bins, patches = plt.hist(x=belize_df['price'], bins='auto')\n",
    "plt.xlabel('price')\n",
    "plt.ylabel('frequency')"
   ]
  },
  {
   "cell_type": "markdown",
   "id": "185d1414",
   "metadata": {},
   "source": [
    "# Variance\n",
    "\n",
    "Variance measures how dispersed data points are from the mean. Low variance means the data points are pretty tightly clustered around the mean. High variance means the data points are pretty spread out from the mean.\n",
    "\n",
    "Variance is like saying the stat points are on average x away from the mean.\n",
    "\n",
    "Variance of 0 means that all the data is the same"
   ]
  },
  {
   "cell_type": "code",
   "execution_count": 28,
   "id": "3994db65",
   "metadata": {},
   "outputs": [],
   "source": [
    "#variance function, ddof = degrees of freedom = number of independent pieces of information\n",
    "def variance(data,ddof=0):\n",
    "    n = len(data)\n",
    "    mean = sum(data)/n\n",
    "    return sum((x-mean)**2 for x in data)/(n-ddof)\n",
    "    "
   ]
  },
  {
   "cell_type": "code",
   "execution_count": 29,
   "id": "5e8050c7",
   "metadata": {},
   "outputs": [
    {
     "data": {
      "text/plain": [
       "316996.1526270922"
      ]
     },
     "execution_count": 29,
     "metadata": {},
     "output_type": "execute_result"
    }
   ],
   "source": [
    "#population variance\n",
    "variance(belize_df['price'])"
   ]
  },
  {
   "cell_type": "code",
   "execution_count": 30,
   "id": "c7c5c28e",
   "metadata": {},
   "outputs": [
    {
     "data": {
      "text/plain": [
       "316996.15262709244"
      ]
     },
     "execution_count": 30,
     "metadata": {},
     "output_type": "execute_result"
    }
   ],
   "source": [
    "statistics.pvariance(belize_df['price'])"
   ]
  },
  {
   "cell_type": "code",
   "execution_count": 31,
   "id": "7e94ac0b",
   "metadata": {},
   "outputs": [
    {
     "data": {
      "text/plain": [
       "317109.56806631474"
      ]
     },
     "execution_count": 31,
     "metadata": {},
     "output_type": "execute_result"
    }
   ],
   "source": [
    "#sample variance\n",
    "variance(belize_df['price'],ddof=1)"
   ]
  },
  {
   "cell_type": "code",
   "execution_count": 32,
   "id": "f71d1d43",
   "metadata": {},
   "outputs": [
    {
     "data": {
      "text/plain": [
       "317109.568066315"
      ]
     },
     "execution_count": 32,
     "metadata": {},
     "output_type": "execute_result"
    }
   ],
   "source": [
    "statistics.variance(belize_df['price'])"
   ]
  },
  {
   "cell_type": "markdown",
   "id": "ed7ffe6e",
   "metadata": {},
   "source": [
    "# Standard Deviation\n",
    "\n",
    "standard deviation is the square root of the variance.\n",
    "\n",
    "Why? because square dollars don't make sense. We need to get rid of that squared value so we have an intuitive understanding of what we're talking about.\n",
    "\n",
    "Tells you how far, on average, each value lies from the mean."
   ]
  },
  {
   "cell_type": "code",
   "execution_count": 33,
   "id": "47b05420",
   "metadata": {},
   "outputs": [
    {
     "data": {
      "text/plain": [
       "563.0241137172478"
      ]
     },
     "execution_count": 33,
     "metadata": {},
     "output_type": "execute_result"
    }
   ],
   "source": [
    "#population standard deviation\n",
    "statistics.pstdev(belize_df['price'])"
   ]
  },
  {
   "cell_type": "code",
   "execution_count": 34,
   "id": "98124ab2",
   "metadata": {},
   "outputs": [
    {
     "data": {
      "text/plain": [
       "563.1248245871558"
      ]
     },
     "execution_count": 34,
     "metadata": {},
     "output_type": "execute_result"
    }
   ],
   "source": [
    "#sample standard deviation\n",
    "statistics.stdev(belize_df['price'])"
   ]
  },
  {
   "cell_type": "markdown",
   "id": "4b1ada67",
   "metadata": {},
   "source": [
    "# Covariance and Correlation\n",
    "\n",
    "Covariance is to correlation what variance is to standard deviation\n",
    "\n",
    "Covariance tells us how much and to what extent two random variables change together. in other words: how much will one variable change as another variable changes.\n",
    "\n",
    "Positive = variables changing in the same direction\n",
    "Negative = variables changing in the opposite direction\n",
    "\n",
    "Correlation tells us how strong the relationship is between the variables\n",
    "\n",
    "correlation = (covariance of x and y)/((standard deviation of x)(standard deviation of y))"
   ]
  },
  {
   "cell_type": "code",
   "execution_count": 36,
   "id": "b0167cd7",
   "metadata": {},
   "outputs": [
    {
     "data": {
      "text/plain": [
       "array([[   919.77350828,  -2055.7279794 ],\n",
       "       [ -2055.7279794 , 317109.56806632]])"
      ]
     },
     "execution_count": 36,
     "metadata": {},
     "output_type": "execute_result"
    }
   ],
   "source": [
    "np.cov(belize_df['number_of_reviews'],belize_df['price'])"
   ]
  },
  {
   "cell_type": "code",
   "execution_count": 37,
   "id": "c9beb295",
   "metadata": {},
   "outputs": [
    {
     "data": {
      "text/plain": [
       "array([[ 1.        , -0.12037063],\n",
       "       [-0.12037063,  1.        ]])"
      ]
     },
     "execution_count": 37,
     "metadata": {},
     "output_type": "execute_result"
    }
   ],
   "source": [
    "np.corrcoef(belize_df['number_of_reviews'],belize_df['price'])"
   ]
  },
  {
   "cell_type": "code",
   "execution_count": null,
   "id": "c963ca0d",
   "metadata": {},
   "outputs": [],
   "source": []
  }
 ],
 "metadata": {
  "kernelspec": {
   "display_name": "Python 3 (ipykernel)",
   "language": "python",
   "name": "python3"
  },
  "language_info": {
   "codemirror_mode": {
    "name": "ipython",
    "version": 3
   },
   "file_extension": ".py",
   "mimetype": "text/x-python",
   "name": "python",
   "nbconvert_exporter": "python",
   "pygments_lexer": "ipython3",
   "version": "3.9.7"
  }
 },
 "nbformat": 4,
 "nbformat_minor": 5
}
