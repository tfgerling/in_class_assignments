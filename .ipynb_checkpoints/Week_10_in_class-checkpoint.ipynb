{
 "cells": [
  {
   "cell_type": "markdown",
   "id": "024a60ed",
   "metadata": {},
   "source": [
    "## 1. Function to calculate dot product manually"
   ]
  },
  {
   "cell_type": "code",
   "execution_count": 156,
   "id": "80546386",
   "metadata": {},
   "outputs": [
    {
     "data": {
      "text/plain": [
       "38"
      ]
     },
     "execution_count": 156,
     "metadata": {},
     "output_type": "execute_result"
    }
   ],
   "source": [
    "#Function is called dot and takes in 2 vectors. Added try except logic for common errors such\n",
    "#as the arrays not being the same size as well as not having numbers in there\n",
    "def dot(a,b):\n",
    "    summed = 0\n",
    "    try:\n",
    "        for i in range(len(a)) and range(len(b)): #this ensures the length of both are checked\n",
    "            summed = summed + (a[i] * b[i]) #adding the product as it iterates through to summed\n",
    "    except IndexError:\n",
    "        print('Arrays must be same size')\n",
    "    except TypeError:\n",
    "        print('All values must be numeric')\n",
    "    except Exception as e:\n",
    "        return e\n",
    "    else:\n",
    "        return summed\n",
    "\n",
    "dot([1,2,3],[5,6,7])"
   ]
  },
  {
   "cell_type": "code",
   "execution_count": 157,
   "id": "d2633664",
   "metadata": {},
   "outputs": [
    {
     "name": "stdout",
     "output_type": "stream",
     "text": [
      "All values must be numeric\n"
     ]
    }
   ],
   "source": [
    "dot([1,2,'c'],[5,6,7])"
   ]
  },
  {
   "cell_type": "code",
   "execution_count": 128,
   "id": "d1f3178c",
   "metadata": {},
   "outputs": [
    {
     "data": {
      "text/plain": [
       "32"
      ]
     },
     "execution_count": 128,
     "metadata": {},
     "output_type": "execute_result"
    }
   ],
   "source": [
    "#This was another way of coding it but this one doesn't have the try/except logic\n",
    "def dot_prod(a,b):\n",
    "        \n",
    "    return sum(i*j for i,j in zip(a,b))\n",
    "        \n",
    "dot_prod([1,2,3],[4,5,6])"
   ]
  },
  {
   "cell_type": "markdown",
   "id": "7df47056",
   "metadata": {},
   "source": [
    "## Function to calculate cross product manually\n"
   ]
  },
  {
   "cell_type": "code",
   "execution_count": 159,
   "id": "310c890e",
   "metadata": {},
   "outputs": [
    {
     "data": {
      "text/plain": [
       "[-3, 6, -3]"
      ]
     },
     "execution_count": 159,
     "metadata": {},
     "output_type": "execute_result"
    }
   ],
   "source": [
    "#create a function to calculate cross product\n",
    "def cross(m,n):\n",
    "    s = []  #create a variable to hold the matrix to append to\n",
    "    try:\n",
    "        for i in range(len(m)) and range(len(n)):\n",
    "            if i == 0: #first time in, we will multiply m.1 and n.2 and subtract m.2 times n.1\n",
    "                c,d = 1,2\n",
    "                s.append(m[c]*n[d] - m[d]*n[c])\n",
    "            elif i ==1: #for second one in, multiply m.2 and n.0 and subtract m.0 times n.2\n",
    "                c,d = 2,0\n",
    "                s.append(m[c]*n[d] - m[d]*n[c])\n",
    "            else:\n",
    "                c,d = 0,1 #next multiply m.0 and n.1 and subtract m.1 times n.0\n",
    "                s.append(m[c]*n[d] - m[d]*n[c])\n",
    "    except IndexError:\n",
    "        print('Arrays must be same size')\n",
    "    except TypeError:\n",
    "        print('All values must be numbers')\n",
    "    except Exception as e:\n",
    "        return e\n",
    "    else:\n",
    "        return s\n",
    "cross ([1,2,3],[4,5,6])\n"
   ]
  },
  {
   "cell_type": "code",
   "execution_count": 137,
   "id": "43ac0d57",
   "metadata": {},
   "outputs": [
    {
     "data": {
      "text/plain": [
       "array([-3,  6, -3])"
      ]
     },
     "execution_count": 137,
     "metadata": {},
     "output_type": "execute_result"
    }
   ],
   "source": [
    "#double check my function output\n",
    "import numpy as np\n",
    "v=[1,2,3]\n",
    "v2=[4,5,6]\n",
    "np.cross(v,v2,axisa=0,axisb=0)"
   ]
  },
  {
   "cell_type": "markdown",
   "id": "a2db87bf",
   "metadata": {},
   "source": [
    "## What is one hot encoding?\n",
    "one hot encoding - convert categorical to binary - \n",
    "\n",
    "## Why do we use it?\n",
    "We use it to allow the representation of categorical data to be more expressive."
   ]
  },
  {
   "cell_type": "code",
   "execution_count": 158,
   "id": "adf5834e",
   "metadata": {},
   "outputs": [],
   "source": [
    "#import pandas and read in the belize airbnb data set creating a dataframe\n",
    "import pandas as pd\n",
    "belize_df = pd.read_csv(\"belize_airbnb_listings.csv\")\n"
   ]
  },
  {
   "cell_type": "code",
   "execution_count": 95,
   "id": "71bfd049",
   "metadata": {},
   "outputs": [
    {
     "name": "stdout",
     "output_type": "stream",
     "text": [
      "['Belize' 'Stann Creek' 'Toledo' 'Cayo' 'Corozal' 'Orange Walk']\n",
      "[0, 1, 2, 3, 4, 5]\n"
     ]
    }
   ],
   "source": [
    "#get unique neighbourhood out of dataframe\n",
    "value_list = belize_df['neighbourhood_group'].unique()\n",
    "print(value_list)\n",
    "\n",
    "#map each neighbourhood to an integer\n",
    "group_to_int = dict((group,i) for i, group in enumerate(value_list))\n",
    "int_to_group = dict((i,group) for i, group in enumerate(value_list))\n",
    "\n",
    "#integer encode input data\n",
    "value_encoded = [group_to_int[data] for data in value_list]\n",
    "print(value_encoded)"
   ]
  },
  {
   "cell_type": "code",
   "execution_count": 96,
   "id": "0594d1b1",
   "metadata": {},
   "outputs": [
    {
     "name": "stdout",
     "output_type": "stream",
     "text": [
      "[[1, 0, 0, 0, 0, 0], [0, 1, 0, 0, 0, 0], [0, 0, 1, 0, 0, 0], [0, 0, 0, 1, 0, 0], [0, 0, 0, 0, 1, 0], [0, 0, 0, 0, 0, 1]]\n"
     ]
    }
   ],
   "source": [
    "#one hot encoded\n",
    "#set up empty list to add to\n",
    "one_hot = list()\n",
    "\n",
    "#loop through the numbers in value_encoded and set up a new matrix\n",
    "for x in value_encoded:\n",
    "    new_matrix = [0 for _ in range(len(value_list))]\n",
    "    new_matrix[x] = 1\n",
    "    one_hot.append(new_matrix)\n",
    "print(one_hot)"
   ]
  },
  {
   "cell_type": "code",
   "execution_count": 117,
   "id": "19970a25",
   "metadata": {},
   "outputs": [
    {
     "name": "stdout",
     "output_type": "stream",
     "text": [
      "Belize\n",
      "Stann Creek\n",
      "Toledo\n",
      "Cayo\n",
      "Corozal\n",
      "Orange Walk\n"
     ]
    }
   ],
   "source": [
    "#check to see if we can get back to original values\n",
    "values_for_dict = list()\n",
    "for x in range(len(value_list)):\n",
    "    invert_it = int_to_group[argmax(one_hot[x])]\n",
    "    values_for_dict.append(invert_it)\n",
    "    print(invert_it)\n"
   ]
  },
  {
   "cell_type": "code",
   "execution_count": 121,
   "id": "94c8f88a",
   "metadata": {},
   "outputs": [
    {
     "name": "stdout",
     "output_type": "stream",
     "text": [
      "{'Belize': [1, 0, 0, 0, 0, 0], 'Stann Creek': [0, 1, 0, 0, 0, 0], 'Toledo': [0, 0, 1, 0, 0, 0], 'Cayo': [0, 0, 0, 1, 0, 0], 'Corozal': [0, 0, 0, 0, 1, 0], 'Orange Walk': [0, 0, 0, 0, 0, 1]}\n"
     ]
    },
    {
     "data": {
      "text/html": [
       "<div>\n",
       "<style scoped>\n",
       "    .dataframe tbody tr th:only-of-type {\n",
       "        vertical-align: middle;\n",
       "    }\n",
       "\n",
       "    .dataframe tbody tr th {\n",
       "        vertical-align: top;\n",
       "    }\n",
       "\n",
       "    .dataframe thead th {\n",
       "        text-align: right;\n",
       "    }\n",
       "</style>\n",
       "<table border=\"1\" class=\"dataframe\">\n",
       "  <thead>\n",
       "    <tr style=\"text-align: right;\">\n",
       "      <th></th>\n",
       "      <th>id</th>\n",
       "      <th>name</th>\n",
       "      <th>host_id</th>\n",
       "      <th>host_name</th>\n",
       "      <th>neighbourhood_group</th>\n",
       "      <th>neighbourhood</th>\n",
       "      <th>latitude</th>\n",
       "      <th>longitude</th>\n",
       "      <th>room_type</th>\n",
       "      <th>price</th>\n",
       "      <th>minimum_nights</th>\n",
       "      <th>number_of_reviews</th>\n",
       "      <th>last_review</th>\n",
       "      <th>reviews_per_month</th>\n",
       "      <th>calculated_host_listings_count</th>\n",
       "      <th>availability_365</th>\n",
       "      <th>neighbourhood_value</th>\n",
       "    </tr>\n",
       "  </thead>\n",
       "  <tbody>\n",
       "    <tr>\n",
       "      <th>0</th>\n",
       "      <td>36666</td>\n",
       "      <td>Mo's Cozy Casa w/ veranda &amp; access to dock</td>\n",
       "      <td>157752</td>\n",
       "      <td>Monique</td>\n",
       "      <td>Belize</td>\n",
       "      <td>Belize Islands</td>\n",
       "      <td>17.74786</td>\n",
       "      <td>-88.02398</td>\n",
       "      <td>Entire home/apt</td>\n",
       "      <td>141</td>\n",
       "      <td>3</td>\n",
       "      <td>250</td>\n",
       "      <td>2/23/2021</td>\n",
       "      <td>2.00</td>\n",
       "      <td>5</td>\n",
       "      <td>225</td>\n",
       "      <td>[1, 0, 0, 0, 0, 0]</td>\n",
       "    </tr>\n",
       "    <tr>\n",
       "      <th>1</th>\n",
       "      <td>36690</td>\n",
       "      <td>Mo's Cozy Cabana w/ comfy veranda &amp; access to ...</td>\n",
       "      <td>157752</td>\n",
       "      <td>Monique</td>\n",
       "      <td>Belize</td>\n",
       "      <td>Belize Islands</td>\n",
       "      <td>17.74832</td>\n",
       "      <td>-88.02474</td>\n",
       "      <td>Entire home/apt</td>\n",
       "      <td>71</td>\n",
       "      <td>3</td>\n",
       "      <td>316</td>\n",
       "      <td>2/19/2021</td>\n",
       "      <td>2.46</td>\n",
       "      <td>5</td>\n",
       "      <td>164</td>\n",
       "      <td>[1, 0, 0, 0, 0, 0]</td>\n",
       "    </tr>\n",
       "    <tr>\n",
       "      <th>2</th>\n",
       "      <td>108932</td>\n",
       "      <td>Purple House eco solar  w/ ocean &amp; wildlife views</td>\n",
       "      <td>563377</td>\n",
       "      <td>Michael</td>\n",
       "      <td>Belize</td>\n",
       "      <td>Belize Islands</td>\n",
       "      <td>17.73221</td>\n",
       "      <td>-88.03824</td>\n",
       "      <td>Entire home/apt</td>\n",
       "      <td>191</td>\n",
       "      <td>2</td>\n",
       "      <td>30</td>\n",
       "      <td>3/14/2020</td>\n",
       "      <td>0.78</td>\n",
       "      <td>1</td>\n",
       "      <td>364</td>\n",
       "      <td>[1, 0, 0, 0, 0, 0]</td>\n",
       "    </tr>\n",
       "    <tr>\n",
       "      <th>3</th>\n",
       "      <td>110483</td>\n",
       "      <td>Michelo's fuchsia suite</td>\n",
       "      <td>567809</td>\n",
       "      <td>Michel</td>\n",
       "      <td>Stann Creek</td>\n",
       "      <td>Stann Creek Mainland</td>\n",
       "      <td>16.52114</td>\n",
       "      <td>-88.36926</td>\n",
       "      <td>Hotel room</td>\n",
       "      <td>121</td>\n",
       "      <td>1</td>\n",
       "      <td>27</td>\n",
       "      <td>2/24/2020</td>\n",
       "      <td>0.29</td>\n",
       "      <td>3</td>\n",
       "      <td>331</td>\n",
       "      <td>[0, 1, 0, 0, 0, 0]</td>\n",
       "    </tr>\n",
       "    <tr>\n",
       "      <th>4</th>\n",
       "      <td>120115</td>\n",
       "      <td>Seaside Villas Second Floor Unit  #4</td>\n",
       "      <td>604999</td>\n",
       "      <td>Bobbi</td>\n",
       "      <td>Belize</td>\n",
       "      <td>Belize Islands</td>\n",
       "      <td>17.74166</td>\n",
       "      <td>-88.02395</td>\n",
       "      <td>Entire home/apt</td>\n",
       "      <td>343</td>\n",
       "      <td>1</td>\n",
       "      <td>30</td>\n",
       "      <td>3/18/2020</td>\n",
       "      <td>0.64</td>\n",
       "      <td>22</td>\n",
       "      <td>203</td>\n",
       "      <td>[1, 0, 0, 0, 0, 0]</td>\n",
       "    </tr>\n",
       "  </tbody>\n",
       "</table>\n",
       "</div>"
      ],
      "text/plain": [
       "       id                                               name  host_id  \\\n",
       "0   36666         Mo's Cozy Casa w/ veranda & access to dock   157752   \n",
       "1   36690  Mo's Cozy Cabana w/ comfy veranda & access to ...   157752   \n",
       "2  108932  Purple House eco solar  w/ ocean & wildlife views   563377   \n",
       "3  110483                            Michelo's fuchsia suite   567809   \n",
       "4  120115               Seaside Villas Second Floor Unit  #4   604999   \n",
       "\n",
       "  host_name neighbourhood_group         neighbourhood  latitude  longitude  \\\n",
       "0   Monique              Belize        Belize Islands  17.74786  -88.02398   \n",
       "1   Monique              Belize        Belize Islands  17.74832  -88.02474   \n",
       "2   Michael              Belize        Belize Islands  17.73221  -88.03824   \n",
       "3    Michel         Stann Creek  Stann Creek Mainland  16.52114  -88.36926   \n",
       "4     Bobbi              Belize        Belize Islands  17.74166  -88.02395   \n",
       "\n",
       "         room_type  price  minimum_nights  number_of_reviews last_review  \\\n",
       "0  Entire home/apt    141               3                250   2/23/2021   \n",
       "1  Entire home/apt     71               3                316   2/19/2021   \n",
       "2  Entire home/apt    191               2                 30   3/14/2020   \n",
       "3       Hotel room    121               1                 27   2/24/2020   \n",
       "4  Entire home/apt    343               1                 30   3/18/2020   \n",
       "\n",
       "   reviews_per_month  calculated_host_listings_count  availability_365  \\\n",
       "0               2.00                               5               225   \n",
       "1               2.46                               5               164   \n",
       "2               0.78                               1               364   \n",
       "3               0.29                               3               331   \n",
       "4               0.64                              22               203   \n",
       "\n",
       "  neighbourhood_value  \n",
       "0  [1, 0, 0, 0, 0, 0]  \n",
       "1  [1, 0, 0, 0, 0, 0]  \n",
       "2  [1, 0, 0, 0, 0, 0]  \n",
       "3  [0, 1, 0, 0, 0, 0]  \n",
       "4  [1, 0, 0, 0, 0, 0]  "
      ]
     },
     "execution_count": 121,
     "metadata": {},
     "output_type": "execute_result"
    }
   ],
   "source": [
    "# taking the information from values_for_dict and one_hot, set up a dictionary \n",
    "# to use with adding a column to the dataframe\n",
    "dict_a = {}\n",
    "dict_a = dict(zip(values_for_dict,one_hot))\n",
    "print(dict_a)\n",
    "belize_df['neighbourhood_value'] = belize_df['neighbourhood_group'].map(dict_a)\n",
    "belize_df.head()\n"
   ]
  },
  {
   "cell_type": "code",
   "execution_count": 126,
   "id": "65edc4c3",
   "metadata": {},
   "outputs": [
    {
     "name": "stdout",
     "output_type": "stream",
     "text": [
      "{'Belize': 0, 'Stann Creek': 1, 'Toledo': 2, 'Cayo': 3, 'Corozal': 4, 'Orange Walk': 5}\n"
     ]
    },
    {
     "data": {
      "text/html": [
       "<div>\n",
       "<style scoped>\n",
       "    .dataframe tbody tr th:only-of-type {\n",
       "        vertical-align: middle;\n",
       "    }\n",
       "\n",
       "    .dataframe tbody tr th {\n",
       "        vertical-align: top;\n",
       "    }\n",
       "\n",
       "    .dataframe thead th {\n",
       "        text-align: right;\n",
       "    }\n",
       "</style>\n",
       "<table border=\"1\" class=\"dataframe\">\n",
       "  <thead>\n",
       "    <tr style=\"text-align: right;\">\n",
       "      <th></th>\n",
       "      <th>id</th>\n",
       "      <th>name</th>\n",
       "      <th>host_id</th>\n",
       "      <th>host_name</th>\n",
       "      <th>neighbourhood_group</th>\n",
       "      <th>neighbourhood</th>\n",
       "      <th>latitude</th>\n",
       "      <th>longitude</th>\n",
       "      <th>room_type</th>\n",
       "      <th>price</th>\n",
       "      <th>minimum_nights</th>\n",
       "      <th>number_of_reviews</th>\n",
       "      <th>last_review</th>\n",
       "      <th>reviews_per_month</th>\n",
       "      <th>calculated_host_listings_count</th>\n",
       "      <th>availability_365</th>\n",
       "      <th>neighbourhood_value</th>\n",
       "      <th>new_neigh_value</th>\n",
       "    </tr>\n",
       "  </thead>\n",
       "  <tbody>\n",
       "    <tr>\n",
       "      <th>0</th>\n",
       "      <td>36666</td>\n",
       "      <td>Mo's Cozy Casa w/ veranda &amp; access to dock</td>\n",
       "      <td>157752</td>\n",
       "      <td>Monique</td>\n",
       "      <td>Belize</td>\n",
       "      <td>Belize Islands</td>\n",
       "      <td>17.74786</td>\n",
       "      <td>-88.02398</td>\n",
       "      <td>Entire home/apt</td>\n",
       "      <td>141</td>\n",
       "      <td>3</td>\n",
       "      <td>250</td>\n",
       "      <td>2/23/2021</td>\n",
       "      <td>2.00</td>\n",
       "      <td>5</td>\n",
       "      <td>225</td>\n",
       "      <td>[1, 0, 0, 0, 0, 0]</td>\n",
       "      <td>0</td>\n",
       "    </tr>\n",
       "    <tr>\n",
       "      <th>1</th>\n",
       "      <td>36690</td>\n",
       "      <td>Mo's Cozy Cabana w/ comfy veranda &amp; access to ...</td>\n",
       "      <td>157752</td>\n",
       "      <td>Monique</td>\n",
       "      <td>Belize</td>\n",
       "      <td>Belize Islands</td>\n",
       "      <td>17.74832</td>\n",
       "      <td>-88.02474</td>\n",
       "      <td>Entire home/apt</td>\n",
       "      <td>71</td>\n",
       "      <td>3</td>\n",
       "      <td>316</td>\n",
       "      <td>2/19/2021</td>\n",
       "      <td>2.46</td>\n",
       "      <td>5</td>\n",
       "      <td>164</td>\n",
       "      <td>[1, 0, 0, 0, 0, 0]</td>\n",
       "      <td>0</td>\n",
       "    </tr>\n",
       "    <tr>\n",
       "      <th>2</th>\n",
       "      <td>108932</td>\n",
       "      <td>Purple House eco solar  w/ ocean &amp; wildlife views</td>\n",
       "      <td>563377</td>\n",
       "      <td>Michael</td>\n",
       "      <td>Belize</td>\n",
       "      <td>Belize Islands</td>\n",
       "      <td>17.73221</td>\n",
       "      <td>-88.03824</td>\n",
       "      <td>Entire home/apt</td>\n",
       "      <td>191</td>\n",
       "      <td>2</td>\n",
       "      <td>30</td>\n",
       "      <td>3/14/2020</td>\n",
       "      <td>0.78</td>\n",
       "      <td>1</td>\n",
       "      <td>364</td>\n",
       "      <td>[1, 0, 0, 0, 0, 0]</td>\n",
       "      <td>0</td>\n",
       "    </tr>\n",
       "    <tr>\n",
       "      <th>3</th>\n",
       "      <td>110483</td>\n",
       "      <td>Michelo's fuchsia suite</td>\n",
       "      <td>567809</td>\n",
       "      <td>Michel</td>\n",
       "      <td>Stann Creek</td>\n",
       "      <td>Stann Creek Mainland</td>\n",
       "      <td>16.52114</td>\n",
       "      <td>-88.36926</td>\n",
       "      <td>Hotel room</td>\n",
       "      <td>121</td>\n",
       "      <td>1</td>\n",
       "      <td>27</td>\n",
       "      <td>2/24/2020</td>\n",
       "      <td>0.29</td>\n",
       "      <td>3</td>\n",
       "      <td>331</td>\n",
       "      <td>[0, 1, 0, 0, 0, 0]</td>\n",
       "      <td>1</td>\n",
       "    </tr>\n",
       "    <tr>\n",
       "      <th>4</th>\n",
       "      <td>120115</td>\n",
       "      <td>Seaside Villas Second Floor Unit  #4</td>\n",
       "      <td>604999</td>\n",
       "      <td>Bobbi</td>\n",
       "      <td>Belize</td>\n",
       "      <td>Belize Islands</td>\n",
       "      <td>17.74166</td>\n",
       "      <td>-88.02395</td>\n",
       "      <td>Entire home/apt</td>\n",
       "      <td>343</td>\n",
       "      <td>1</td>\n",
       "      <td>30</td>\n",
       "      <td>3/18/2020</td>\n",
       "      <td>0.64</td>\n",
       "      <td>22</td>\n",
       "      <td>203</td>\n",
       "      <td>[1, 0, 0, 0, 0, 0]</td>\n",
       "      <td>0</td>\n",
       "    </tr>\n",
       "  </tbody>\n",
       "</table>\n",
       "</div>"
      ],
      "text/plain": [
       "       id                                               name  host_id  \\\n",
       "0   36666         Mo's Cozy Casa w/ veranda & access to dock   157752   \n",
       "1   36690  Mo's Cozy Cabana w/ comfy veranda & access to ...   157752   \n",
       "2  108932  Purple House eco solar  w/ ocean & wildlife views   563377   \n",
       "3  110483                            Michelo's fuchsia suite   567809   \n",
       "4  120115               Seaside Villas Second Floor Unit  #4   604999   \n",
       "\n",
       "  host_name neighbourhood_group         neighbourhood  latitude  longitude  \\\n",
       "0   Monique              Belize        Belize Islands  17.74786  -88.02398   \n",
       "1   Monique              Belize        Belize Islands  17.74832  -88.02474   \n",
       "2   Michael              Belize        Belize Islands  17.73221  -88.03824   \n",
       "3    Michel         Stann Creek  Stann Creek Mainland  16.52114  -88.36926   \n",
       "4     Bobbi              Belize        Belize Islands  17.74166  -88.02395   \n",
       "\n",
       "         room_type  price  minimum_nights  number_of_reviews last_review  \\\n",
       "0  Entire home/apt    141               3                250   2/23/2021   \n",
       "1  Entire home/apt     71               3                316   2/19/2021   \n",
       "2  Entire home/apt    191               2                 30   3/14/2020   \n",
       "3       Hotel room    121               1                 27   2/24/2020   \n",
       "4  Entire home/apt    343               1                 30   3/18/2020   \n",
       "\n",
       "   reviews_per_month  calculated_host_listings_count  availability_365  \\\n",
       "0               2.00                               5               225   \n",
       "1               2.46                               5               164   \n",
       "2               0.78                               1               364   \n",
       "3               0.29                               3               331   \n",
       "4               0.64                              22               203   \n",
       "\n",
       "  neighbourhood_value  new_neigh_value  \n",
       "0  [1, 0, 0, 0, 0, 0]                0  \n",
       "1  [1, 0, 0, 0, 0, 0]                0  \n",
       "2  [1, 0, 0, 0, 0, 0]                0  \n",
       "3  [0, 1, 0, 0, 0, 0]                1  \n",
       "4  [1, 0, 0, 0, 0, 0]                0  "
      ]
     },
     "execution_count": 126,
     "metadata": {},
     "output_type": "execute_result"
    }
   ],
   "source": [
    "import numpy as np\n",
    "\n",
    "# map each neighbourhood to an integer\n",
    "mapping = {}\n",
    "for x in range(len(value_list)):\n",
    "    mapping[value_list[x]] = x\n",
    "\n",
    "print(mapping)\n",
    "\n",
    "#wanted to add another column with just one value for the neighbourhood as the previous one \n",
    "#didn't look right\n",
    "\n",
    "belize_df['new_neigh_value'] = belize_df['neighbourhood_group'].map(mapping)\n",
    "belize_df.head()"
   ]
  },
  {
   "cell_type": "code",
   "execution_count": null,
   "id": "063248a3",
   "metadata": {},
   "outputs": [],
   "source": []
  }
 ],
 "metadata": {
  "kernelspec": {
   "display_name": "Python 3 (ipykernel)",
   "language": "python",
   "name": "python3"
  },
  "language_info": {
   "codemirror_mode": {
    "name": "ipython",
    "version": 3
   },
   "file_extension": ".py",
   "mimetype": "text/x-python",
   "name": "python",
   "nbconvert_exporter": "python",
   "pygments_lexer": "ipython3",
   "version": "3.9.7"
  }
 },
 "nbformat": 4,
 "nbformat_minor": 5
}
