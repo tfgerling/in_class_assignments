{
 "cells": [
  {
   "cell_type": "code",
   "execution_count": 84,
   "id": "5b05d8fb",
   "metadata": {},
   "outputs": [
    {
     "name": "stdout",
     "output_type": "stream",
     "text": [
      "43905 reversed as 95430\n",
      "584366 reversed as 866543\n"
     ]
    }
   ],
   "source": [
    "#Make a function that can take any non-negative integer as an argument and return it with its\n",
    "#digits in descending order. Essentially, rearrange the digits to create the highest possible\n",
    "#number. If no number is passed in, make the default value inputted = 111111.\n",
    "#Input = 43905 Output = 95430\n",
    "#Input = 584366 Output = 866543\n",
    "\n",
    "#Function reverse_digits will take in any integer as an argument and return it with the \n",
    "#digits in descending order. If a negative number is passed in, the function returns the\n",
    "#string - Enter a positive number. If no number is passed in, the default value is 111111.\n",
    "\n",
    "def reverse_digits(no_in=111111):\n",
    "    \n",
    "    #holding field to convert number coming in to a string\n",
    "    holding_field=str(no_in)\n",
    "    \n",
    "    #empty container will be used to append each digit from the incoming number,\n",
    "    #making a list which will be sorted\n",
    "    container=[]\n",
    "    \n",
    "    #check for positive number first, then use a for loop to walk each digit of the input number\n",
    "    if no_in<=0:\n",
    "        return(\"Enter a positive number\")\n",
    "    else:\n",
    "        for x in holding_field:\n",
    "            container.append(x)\n",
    "        \n",
    "        #after done with the loop, sort the container list in reverse order and place in holding\n",
    "        #field before converting the list back to a string\n",
    "        \n",
    "        holding_field = sorted(container, reverse=True)\n",
    "      \n",
    "        no_out = \"\".join(holding_field)\n",
    "    \n",
    "        return(no_out)\n",
    "    \n",
    "\n",
    "print('43905 reversed as', reverse_digits(43905))\n",
    "\n",
    "print('584366 reversed as', reverse_digits(584366))"
   ]
  },
  {
   "cell_type": "code",
   "execution_count": 86,
   "id": "4055894b",
   "metadata": {},
   "outputs": [
    {
     "name": "stdout",
     "output_type": "stream",
     "text": [
      "Number of rows in the Jeopardy CSV file 216930\n"
     ]
    }
   ],
   "source": [
    "#Import jeopardy.csv and create a dataframe from the data. Find out the following:\n",
    "\n",
    "# Dependencies and Setup\n",
    "import pandas as pd\n",
    "import numpy as np\n",
    "\n",
    "file_to_load = \"JEOPARDY_CSV.csv\"\n",
    "\n",
    "# read file\n",
    "jeopardy_data = pd.read_csv(file_to_load)\n",
    "\n",
    "#a. How many rows are there in the dataframe? What does a row represent? - a question/answer\n",
    "#combination for each round of each Jeopardy show\n",
    "#number of rows\n",
    "print('Number of rows in the Jeopardy CSV file',jeopardy_data.shape[0])\n"
   ]
  },
  {
   "cell_type": "code",
   "execution_count": 87,
   "id": "0faa0317",
   "metadata": {},
   "outputs": [
    {
     "data": {
      "text/html": [
       "<div>\n",
       "<style scoped>\n",
       "    .dataframe tbody tr th:only-of-type {\n",
       "        vertical-align: middle;\n",
       "    }\n",
       "\n",
       "    .dataframe tbody tr th {\n",
       "        vertical-align: top;\n",
       "    }\n",
       "\n",
       "    .dataframe thead th {\n",
       "        text-align: right;\n",
       "    }\n",
       "</style>\n",
       "<table border=\"1\" class=\"dataframe\">\n",
       "  <thead>\n",
       "    <tr style=\"text-align: right;\">\n",
       "      <th></th>\n",
       "      <th>Air Date</th>\n",
       "    </tr>\n",
       "  </thead>\n",
       "  <tbody>\n",
       "    <tr>\n",
       "      <th>5/19/1997</th>\n",
       "      <td>62</td>\n",
       "    </tr>\n",
       "    <tr>\n",
       "      <th>11/13/2007</th>\n",
       "      <td>62</td>\n",
       "    </tr>\n",
       "    <tr>\n",
       "      <th>11/1/2011</th>\n",
       "      <td>61</td>\n",
       "    </tr>\n",
       "    <tr>\n",
       "      <th>2/5/1993</th>\n",
       "      <td>61</td>\n",
       "    </tr>\n",
       "    <tr>\n",
       "      <th>2/15/2000</th>\n",
       "      <td>61</td>\n",
       "    </tr>\n",
       "    <tr>\n",
       "      <th>...</th>\n",
       "      <td>...</td>\n",
       "    </tr>\n",
       "    <tr>\n",
       "      <th>6/26/2000</th>\n",
       "      <td>30</td>\n",
       "    </tr>\n",
       "    <tr>\n",
       "      <th>1/27/2012</th>\n",
       "      <td>30</td>\n",
       "    </tr>\n",
       "    <tr>\n",
       "      <th>9/3/1996</th>\n",
       "      <td>30</td>\n",
       "    </tr>\n",
       "    <tr>\n",
       "      <th>10/21/1997</th>\n",
       "      <td>16</td>\n",
       "    </tr>\n",
       "    <tr>\n",
       "      <th>10/18/1989</th>\n",
       "      <td>12</td>\n",
       "    </tr>\n",
       "  </tbody>\n",
       "</table>\n",
       "<p>3640 rows × 1 columns</p>\n",
       "</div>"
      ],
      "text/plain": [
       "             Air Date\n",
       "5/19/1997          62\n",
       "11/13/2007         62\n",
       "11/1/2011          61\n",
       "2/5/1993           61\n",
       "2/15/2000          61\n",
       "...               ...\n",
       "6/26/2000          30\n",
       "1/27/2012          30\n",
       "9/3/1996           30\n",
       "10/21/1997         16\n",
       "10/18/1989         12\n",
       "\n",
       "[3640 rows x 1 columns]"
      ]
     },
     "execution_count": 87,
     "metadata": {},
     "output_type": "execute_result"
    }
   ],
   "source": [
    "#b. How many unique shows were there each year?\n",
    "\n",
    "jep_data = jeopardy_data[\" Air Date\"].value_counts()\n",
    "jep_data_df = pd.DataFrame(jep_data)\n",
    "\n",
    "jep_data_df"
   ]
  },
  {
   "cell_type": "code",
   "execution_count": 18,
   "id": "b8112e5e",
   "metadata": {},
   "outputs": [
    {
     "data": {
      "text/plain": [
       "['Show Number',\n",
       " ' Air Date',\n",
       " ' Round',\n",
       " ' Category',\n",
       " ' Value',\n",
       " ' Question',\n",
       " ' Answer']"
      ]
     },
     "execution_count": 18,
     "metadata": {},
     "output_type": "execute_result"
    }
   ],
   "source": [
    "#c. Think of another question that this data can help answer. Make that question a\n",
    "#header in your notebook. how many categories have there been?"
   ]
  },
  {
   "cell_type": "markdown",
   "id": "baafd869",
   "metadata": {},
   "source": [
    "#c - How many categories have there been over the years?"
   ]
  },
  {
   "cell_type": "code",
   "execution_count": 90,
   "id": "4ce90a2c",
   "metadata": {},
   "outputs": [
    {
     "name": "stdout",
     "output_type": "stream",
     "text": [
      "Number of unique categories used over the years 27983\n"
     ]
    }
   ],
   "source": [
    "#d. Answer your question and show the steps you used to do so clearly.\n",
    "#groupby category and use nunique() to get the unique categories\n",
    "#print the shape to show the number of rows\n",
    "\n",
    "ques_new = jeopardy_data.groupby([' Category']).nunique()\n",
    "print('Number of unique categories used over the years',ques_new.shape[0])\n"
   ]
  },
  {
   "cell_type": "code",
   "execution_count": 93,
   "id": "b00ab1c2",
   "metadata": {},
   "outputs": [
    {
     "data": {
      "image/png": "[encoded data removed]",
      "text/plain": [
       "<Figure size 432x288 with 1 Axes>"
      ]
     },
     "metadata": {
      "needs_background": "light"
     },
     "output_type": "display_data"
    }
   ],
   "source": [
    "# Create any graph using matplotlib that helps you understand the jeopardy data. Explain what\n",
    "#your graph shows and why it is useful\n",
    "#Decided to plot how many unique shows were there each year. It shows the max number that occurred\n",
    "#as well as the min number. There is a lot of data in this file. I really wanted to narrow down\n",
    "#the scope of data so it would be a cleaner picture/graph. It takes a while to run as well.\n",
    "\n",
    "import matplotlib.pyplot as plt\n",
    "\n",
    "jep_data = jeopardy_data[\" Air Date\"].value_counts()\n",
    "jep_data_df = pd.DataFrame(jep_data)\n",
    "jep_data_df.plot(kind='bar')\n",
    "plt.show()"
   ]
  },
  {
   "cell_type": "code",
   "execution_count": null,
   "id": "917fc2f1",
   "metadata": {},
   "outputs": [],
   "source": []
  }
 ],
 "metadata": {
  "kernelspec": {
   "display_name": "Python 3 (ipykernel)",
   "language": "python",
   "name": "python3"
  },
  "language_info": {
   "codemirror_mode": {
    "name": "ipython",
    "version": 3
   },
   "file_extension": ".py",
   "mimetype": "text/x-python",
   "name": "python",
   "nbconvert_exporter": "python",
   "pygments_lexer": "ipython3",
   "version": "3.9.7"
  }
 },
 "nbformat": 4,
 "nbformat_minor": 5
}
