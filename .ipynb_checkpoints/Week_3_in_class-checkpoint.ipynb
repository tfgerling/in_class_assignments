{
 "cells": [
  {
   "cell_type": "code",
   "execution_count": 7,
   "id": "ea2d7d4a",
   "metadata": {},
   "outputs": [],
   "source": [
    "def my_func(a,b):\n",
    "    c = a+b\n",
    "    d = a-b\n",
    "    e = a*b\n",
    "    if c ==0:\n",
    "        print('a + b = zero')\n",
    "    else:\n",
    "        print('a + b =', c)\n",
    "    if d ==0:\n",
    "        print('a - b = zero')\n",
    "    else:\n",
    "        print('a - b =', d)\n",
    "    if e ==0:\n",
    "        print('a * b = zero')\n",
    "    else:\n",
    "        print('a * b =', e)\n"
   ]
  },
  {
   "cell_type": "code",
   "execution_count": 8,
   "id": "5f749608",
   "metadata": {},
   "outputs": [
    {
     "name": "stdout",
     "output_type": "stream",
     "text": [
      "a + b = 8\n",
      "a - b = -2\n",
      "a * b = 15\n"
     ]
    }
   ],
   "source": [
    "my_func(3,5)"
   ]
  },
  {
   "cell_type": "code",
   "execution_count": 9,
   "id": "bc5a8919",
   "metadata": {},
   "outputs": [
    {
     "name": "stdout",
     "output_type": "stream",
     "text": [
      "a + b = 6\n",
      "a - b = zero\n",
      "a * b = 9\n"
     ]
    }
   ],
   "source": [
    "my_func(3,3)"
   ]
  },
  {
   "cell_type": "code",
   "execution_count": null,
   "id": "12506c9b",
   "metadata": {},
   "outputs": [],
   "source": []
  }
 ],
 "metadata": {
  "kernelspec": {
   "display_name": "Python 3 (ipykernel)",
   "language": "python",
   "name": "python3"
  },
  "language_info": {
   "codemirror_mode": {
    "name": "ipython",
    "version": 3
   },
   "file_extension": ".py",
   "mimetype": "text/x-python",
   "name": "python",
   "nbconvert_exporter": "python",
   "pygments_lexer": "ipython3",
   "version": "3.9.7"
  }
 },
 "nbformat": 4,
 "nbformat_minor": 5
}
