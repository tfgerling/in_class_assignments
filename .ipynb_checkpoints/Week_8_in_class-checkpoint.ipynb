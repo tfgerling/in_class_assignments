{
 "cells": [
  {
   "cell_type": "code",
   "execution_count": 1,
   "id": "916cbf81",
   "metadata": {},
   "outputs": [],
   "source": [
    "import pandas as pd\n",
    "import numpy as np\n",
    "\n",
    "#modules for statistics\n",
    "import math\n",
    "import statistics\n",
    "from scipy import stats\n",
    "belize_df = pd.read_csv(\"belize_airbnb_listings.csv\")"
   ]
  },
  {
   "cell_type": "markdown",
   "id": "bd276746",
   "metadata": {},
   "source": [
    "# Arithmetic mean\n",
    "\n",
    "Arithmetic mean = average, balance point = sum of all numbers / total number of values\n"
   ]
  },
  {
   "cell_type": "code",
   "execution_count": 2,
   "id": "28fb26d7",
   "metadata": {},
   "outputs": [
    {
     "data": {
      "text/plain": [
       "357.1022889842632"
      ]
     },
     "execution_count": 2,
     "metadata": {},
     "output_type": "execute_result"
    }
   ],
   "source": [
    "#get arithmetic mean of price using built in function\n",
    "arith_mean = belize_df[\"price\"].mean()\n",
    "arith_mean"
   ]
  },
  {
   "cell_type": "code",
   "execution_count": 3,
   "id": "b9ec921c",
   "metadata": {},
   "outputs": [
    {
     "data": {
      "text/plain": [
       "357.1022889842632"
      ]
     },
     "execution_count": 3,
     "metadata": {},
     "output_type": "execute_result"
    }
   ],
   "source": [
    "#calculating mean price\n",
    "n = len(belize_df['price'])\n",
    "mean_calc = sum(belize_df['price'])/n\n",
    "mean_calc"
   ]
  },
  {
   "cell_type": "markdown",
   "id": "650b8a88",
   "metadata": {},
   "source": [
    "# Geometric mean\n",
    "\n",
    "Geometric mean = the central number in a geometric progression (e.g. 9 in 3, 9, 27), also calculable as the nth root of a product of n numbers."
   ]
  },
  {
   "cell_type": "code",
   "execution_count": 4,
   "id": "8fd26531",
   "metadata": {},
   "outputs": [
    {
     "data": {
      "text/plain": [
       "234.7347175108817"
      ]
     },
     "execution_count": 4,
     "metadata": {},
     "output_type": "execute_result"
    }
   ],
   "source": [
    "#get geometric mean using built in function\n",
    "\n",
    "from scipy.stats.mstats import gmean\n",
    "\n",
    "geometricMean = gmean(belize_df.loc[:,'price'])\n",
    "geometricMean "
   ]
  },
  {
   "cell_type": "code",
   "execution_count": 5,
   "id": "e3f43c95",
   "metadata": {},
   "outputs": [
    {
     "data": {
      "text/plain": [
       "0"
      ]
     },
     "execution_count": 5,
     "metadata": {},
     "output_type": "execute_result"
    }
   ],
   "source": [
    "# caculating geometric mean\n",
    "# need to find the product of the prices in the dataframe and then take the square root\n",
    "geo_mean = belize_df['price'].product()\n",
    "geo_mean"
   ]
  },
  {
   "cell_type": "markdown",
   "id": "6b944382",
   "metadata": {},
   "source": [
    "# Harmonic mean\n",
    "\n",
    "Harmonic mean gives less weightage to the large values and large weightage to the small values to balance the values correctly. In general, the harmonic mean is used when there is a necessity to give greater weight to the smaller items.\n",
    "It can be calculated by dividing the number of terms by reciprocals of its terms"
   ]
  },
  {
   "cell_type": "code",
   "execution_count": 6,
   "id": "e8f3dfa8",
   "metadata": {},
   "outputs": [
    {
     "data": {
      "text/plain": [
       "170.9933850102646"
      ]
     },
     "execution_count": 6,
     "metadata": {},
     "output_type": "execute_result"
    }
   ],
   "source": [
    "# get harmonic mean using built in function\n",
    "\n",
    "statistics.harmonic_mean(belize_df.loc[:,'price'])\n"
   ]
  },
  {
   "cell_type": "code",
   "execution_count": 7,
   "id": "20524802",
   "metadata": {},
   "outputs": [
    {
     "data": {
      "text/plain": [
       "154.29861220335553"
      ]
     },
     "execution_count": 7,
     "metadata": {},
     "output_type": "execute_result"
    }
   ],
   "source": [
    "# calculating harmonic mean\n",
    "# should be geometric mean squared divided by arithmetic mean\n",
    "\n",
    "harm_mean = geometricMean**2/arith_mean\n",
    "harm_mean"
   ]
  },
  {
   "cell_type": "code",
   "execution_count": 4,
   "id": "d96156f2",
   "metadata": {},
   "outputs": [
    {
     "name": "stdout",
     "output_type": "stream",
     "text": [
      "['banana']\n",
      "['apple', 'banana']\n",
      "['aardvark', 'apple', 'banana', 'cat', 'dog']\n"
     ]
    }
   ],
   "source": [
    "# my function - set up to take an unspecified number of values as input and to sort several subsequent inputs \n",
    "# alphabetically. The resuls are stored until the kernel is restarted.\n",
    "#string_value set up as global so all values that have been sent in stay around to be sorted with the new ones coming in\n",
    "\n",
    "string_value =''\n",
    "\n",
    "def my_func(*input_value):\n",
    " \n",
    "    count = 0\n",
    "    global string_value\n",
    "    for a in input_value:\n",
    "        string_value = string_value + ' ' + input_value[count]\n",
    "        count +=1\n",
    "\n",
    "    sorted_string = sorted(string_value.split())\n",
    "    \n",
    "    print(sorted_string)\n",
    "\n",
    "my_func('banana')\n",
    "my_func('apple')\n",
    "my_func('aardvark','dog', 'cat')"
   ]
  },
  {
   "cell_type": "code",
   "execution_count": null,
   "id": "2f60e381",
   "metadata": {},
   "outputs": [],
   "source": []
  }
 ],
 "metadata": {
  "kernelspec": {
   "display_name": "Python 3 (ipykernel)",
   "language": "python",
   "name": "python3"
  },
  "language_info": {
   "codemirror_mode": {
    "name": "ipython",
    "version": 3
   },
   "file_extension": ".py",
   "mimetype": "text/x-python",
   "name": "python",
   "nbconvert_exporter": "python",
   "pygments_lexer": "ipython3",
   "version": "3.9.7"
  }
 },
 "nbformat": 4,
 "nbformat_minor": 5
}
