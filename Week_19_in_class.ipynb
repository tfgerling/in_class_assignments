{
 "cells": [
  {
   "cell_type": "markdown",
   "id": "3723b9e3",
   "metadata": {},
   "source": [
    "## Week 19 in class assignment"
   ]
  },
  {
   "cell_type": "markdown",
   "id": "b72e299c",
   "metadata": {},
   "source": [
    "### 1. Take one of the supervised learning models you have built recently and apply at least three dimensionality reduction techniques to it (separately). Be sure to create a short summary of each technique you use. Indicate how each changed the model performance. Reference: https://machinelearningmastery.com/dimensionality-reduction-algorithms-with-python/\n"
   ]
  },
  {
   "cell_type": "code",
   "execution_count": 2,
   "id": "f779fe1e",
   "metadata": {},
   "outputs": [
    {
     "name": "stdout",
     "output_type": "stream",
     "text": [
      "Accuracy score from logistic regression: 0.76\n"
     ]
    }
   ],
   "source": [
    "import numpy as np\n",
    "import pandas as pd\n",
    "from sklearn import metrics\n",
    "from scipy.spatial.distance import cdist\n",
    "import matplotlib.pyplot as plt\n",
    "\n",
    "from sklearn.linear_model import LogisticRegression\n",
    "from sklearn.preprocessing import StandardScaler\n",
    "from sklearn.model_selection import train_test_split\n",
    "\n",
    "heart_df = pd.read_csv('df.csv') #bring in Clarine's preprocessed arrhythmia dataset\n",
    "\n",
    "X = heart_df.drop('class', axis=1).values\n",
    "y = heart_df['class'].values\n",
    "\n",
    "# Split into training and test set\n",
    "X_train, X_test, y_train, y_test = train_test_split(X, y, test_size = 0.3, random_state=42, stratify=y)\n",
    "\n",
    "# Standardize\n",
    "sc = StandardScaler()\n",
    "X_train_sc = sc.fit_transform(X_train)\n",
    "X_test_sc = sc.fit_transform(X_test)\n",
    "\n",
    "#logistic regression\n",
    "clr = LogisticRegression(random_state=42).fit(X_train_sc,y_train)\n",
    "\n",
    "#predict\n",
    "y_predicted = clr.predict(X_test_sc)\n",
    "\n",
    "#accuracy\n",
    "print('Accuracy score from logistic regression:', clr.score(X_test_sc,y_test).round(2))"
   ]
  },
  {
   "cell_type": "markdown",
   "id": "1bfccf47",
   "metadata": {},
   "source": [
    "#### The 3 techniques we chose were SVD, PCA and Isomap"
   ]
  },
  {
   "cell_type": "markdown",
   "id": "df3fbd3a",
   "metadata": {},
   "source": [
    "### 1. SVD\n",
    "\n",
    "SVD - short for Singular Value Decomposition - this technique is typically used with data that has many zero values in it. n_components is the number of desired dimensions (columns) of the dataset (the output of the transform). SVD reduces the number of features or columns while maintaining the essence (relationships) of the original data.\n",
    "\n",
    "Using the best value for n_components(54), the accuracy increased by .03 from the logistic regression model."
   ]
  },
  {
   "cell_type": "markdown",
   "id": "c3774a6b",
   "metadata": {},
   "source": [
    "Using an iterator, find the best value for n_components. "
   ]
  },
  {
   "cell_type": "code",
   "execution_count": 3,
   "id": "44cae392",
   "metadata": {},
   "outputs": [
    {
     "name": "stdout",
     "output_type": "stream",
     "text": [
      "54 0.7941176470588235\n",
      "Accuracy score from SVD: 0.79\n"
     ]
    }
   ],
   "source": [
    "import warnings\n",
    "warnings.filterwarnings('ignore')\n",
    "from sklearn.decomposition import TruncatedSVD\n",
    "\n",
    "score1 = 0\n",
    "n1 = 0\n",
    "\n",
    "for n in range(1,136):\n",
    "    #build and fit the model\n",
    "    svd = TruncatedSVD(n_components=n)\n",
    "    \n",
    "    X_train_svd = svd.fit_transform(X_train)\n",
    "    X_test_svd = svd.transform(X_test)\n",
    "    \n",
    "    clr = LogisticRegression(random_state=42).fit(X_train_svd, y_train)\n",
    "    \n",
    "    score = clr.score(X_test_svd,y_test)\n",
    "    \n",
    "    if score1 < score:\n",
    "        score1 = score\n",
    "        n1 = n\n",
    "        \n",
    "print(n1,score1)\n",
    "print('Accuracy score from SVD:', score1.round(2))"
   ]
  },
  {
   "cell_type": "markdown",
   "id": "8a43bfe5",
   "metadata": {},
   "source": [
    "#### Run SVD for the n_components number deemed to have the best results."
   ]
  },
  {
   "cell_type": "code",
   "execution_count": 4,
   "id": "8af1dd97",
   "metadata": {},
   "outputs": [
    {
     "name": "stdout",
     "output_type": "stream",
     "text": [
      "Accuracy score from SVD: 0.79\n"
     ]
    }
   ],
   "source": [
    "svd = TruncatedSVD(n_components=54)\n",
    "    \n",
    "X_train_svd = svd.fit_transform(X_train)\n",
    "X_test_svd = svd.transform(X_test)\n",
    "    \n",
    "clr = LogisticRegression(random_state=42).fit(X_train_svd, y_train)\n",
    "    \n",
    "clr.score(X_test_svd,y_test)\n",
    "print('Accuracy score from SVD:', clr.score(X_test_svd,y_test).round(2))"
   ]
  },
  {
   "cell_type": "markdown",
   "id": "a640b721",
   "metadata": {},
   "source": [
    "### 2. PCA\n",
    "\n",
    "PCA - short for Principal Component Analysis - this technique is typically used with data that has few zero values in it. n_components can also be set for PCA to configure the number of desired dimensions/columns of the dataset. This is used for linear dimensinality reduction using SVD to project it to a lower dimensional space. Input data is centered but not scaled for each feature before applying SVD. \n",
    "\n",
    "Using the best value for n_components(51), the accuracy increased by .06 from the logistic regression model."
   ]
  },
  {
   "cell_type": "markdown",
   "id": "d48a2844",
   "metadata": {},
   "source": [
    "Using an iterator, find the best value for n_components"
   ]
  },
  {
   "cell_type": "code",
   "execution_count": 5,
   "id": "636b5e79",
   "metadata": {},
   "outputs": [
    {
     "name": "stdout",
     "output_type": "stream",
     "text": [
      "51 0.8235294117647058\n",
      "Accuracy score from PCA: 0.82\n"
     ]
    }
   ],
   "source": [
    "from sklearn.decomposition import PCA\n",
    "\n",
    "score1 = 0\n",
    "n1 = 0\n",
    "\n",
    "for n in range(1,136):\n",
    "    #build and fit the model\n",
    "    pca = PCA(n_components=n)\n",
    "    \n",
    "    X_train_pca = pca.fit_transform(X_train)\n",
    "    X_test_pca = pca.transform(X_test)\n",
    "    \n",
    "    classifier = LogisticRegression(random_state=42).fit(X_train_pca, y_train)\n",
    "    \n",
    "    score = classifier.score(X_test_pca,y_test)\n",
    "    \n",
    "    if score1 < score:\n",
    "        score1 = score\n",
    "        n1 = n\n",
    "\n",
    "print(n1,score1)\n",
    "print('Accuracy score from PCA:', score1.round(2))"
   ]
  },
  {
   "cell_type": "markdown",
   "id": "e8d7661d",
   "metadata": {},
   "source": [
    "#### Run PCA for the n_components number deemed to have the best results."
   ]
  },
  {
   "cell_type": "code",
   "execution_count": 6,
   "id": "dbf6e761",
   "metadata": {},
   "outputs": [
    {
     "name": "stdout",
     "output_type": "stream",
     "text": [
      "Accuracy score from PCA: 0.82\n"
     ]
    }
   ],
   "source": [
    "pca = PCA(n_components=51)\n",
    "    \n",
    "X_train_pca = pca.fit_transform(X_train)\n",
    "X_test_pca = pca.transform(X_test)\n",
    "    \n",
    "classifier = LogisticRegression(random_state=42).fit(X_train_pca, y_train)\n",
    "    \n",
    "print('Accuracy score from PCA:', classifier.score(X_test_pca,y_test).round(2))"
   ]
  },
  {
   "cell_type": "markdown",
   "id": "629c1961",
   "metadata": {},
   "source": [
    "### 3. Isomap\n",
    "\n",
    "Isomap stands for isometric mapping. It is a nonlinear dimensionality reduction method that tries to preserve the geodesic distances in the lower dimension. Geodesic distance is used instead of Euclidean. In non-linear manifolds, the Euclidean metric for distance holds good if the neighborhood structure can be approximated as linear. If the neighborhood contains holds, Euclidean distances can be misleading.\n",
    "\n",
    "Using the best value for n_components(23), the accuracy decreased by .02 from the logistic regression model."
   ]
  },
  {
   "cell_type": "markdown",
   "id": "7354c362",
   "metadata": {},
   "source": [
    "Using an iterator, find the best value for n_components"
   ]
  },
  {
   "cell_type": "code",
   "execution_count": 7,
   "id": "29802e6b",
   "metadata": {},
   "outputs": [
    {
     "name": "stdout",
     "output_type": "stream",
     "text": [
      "23 0.7352941176470589\n",
      "Accuracy score from Isomap: 0.74\n"
     ]
    }
   ],
   "source": [
    "from sklearn.manifold import Isomap\n",
    "\n",
    "score1 = 0\n",
    "n1 = 0\n",
    "\n",
    "for n in range(1,136):\n",
    "    #build and fit the model\n",
    "    iso = Isomap(n_components=n)\n",
    "    X_train_iso = iso.fit_transform(X_train)\n",
    "    X_test_iso = iso.transform(X_test)\n",
    "    \n",
    "    classifier = LogisticRegression(random_state=42).fit(X_train_iso, y_train)\n",
    "    \n",
    "    score = classifier.score(X_test_iso,y_test)\n",
    "    \n",
    "    if score1 < score:\n",
    "        score1 = score\n",
    "        n1 = n\n",
    "        \n",
    "print(n1,score1)\n",
    "print('Accuracy score from Isomap:', score1.round(2))"
   ]
  },
  {
   "cell_type": "markdown",
   "id": "90626229",
   "metadata": {},
   "source": [
    "#### Run Isomap for the n_components number deemed to have the best results."
   ]
  },
  {
   "cell_type": "code",
   "execution_count": 16,
   "id": "44fc993f",
   "metadata": {},
   "outputs": [
    {
     "name": "stdout",
     "output_type": "stream",
     "text": [
      "Accuracy score from Isomap: 0.74\n"
     ]
    }
   ],
   "source": [
    "iso = Isomap(n_components=23)\n",
    "\n",
    "X_train_iso = iso.fit_transform(X_train)\n",
    "X_test_iso = iso.transform(X_test)\n",
    "    \n",
    "iso_model = LogisticRegression(random_state=42).fit(X_train_iso, y_train)\n",
    "    \n",
    "print('Accuracy score from Isomap:', iso_model.score(X_test_iso,y_test).round(2))"
   ]
  },
  {
   "cell_type": "markdown",
   "id": "ccce360f",
   "metadata": {},
   "source": [
    "### 2. Write a function that will indicate if an inputted IPv4 address is accurate or not. IP addresses are valid if they have 4 values between 0 and 255 (inclusive), punctuated by periods.\n",
    "\n",
    "Input 1:\n",
    "\n",
    "2.33.245.5\n",
    "\n",
    "Output 1:\n",
    "\n",
    "True\n",
    "\n",
    "Input 2:\n",
    "\n",
    "12.345.67.89\n",
    "\n",
    "Output 2:\n",
    "\n",
    "False"
   ]
  },
  {
   "cell_type": "markdown",
   "id": "cfd7f354",
   "metadata": {},
   "source": [
    "#### Thoughts on this one - Split into 4 fields, check each field, if any field is not between 0 and 255, return False. Also if there aren't 4 fields after splitting, return False."
   ]
  },
  {
   "cell_type": "code",
   "execution_count": 1,
   "id": "5ca899eb",
   "metadata": {},
   "outputs": [],
   "source": [
    "def IPA(address):\n",
    "    try:\n",
    "        ip_no = address.split('.')\n",
    "    \n",
    "        if len(ip_no) != 4:\n",
    "            return False\n",
    "    \n",
    "        for num in ip_no:\n",
    "            if int(num) < 0 or int(num) > 255:\n",
    "                return False\n",
    "        return True\n",
    "\n",
    "    except Exception as e:\n",
    "        return False"
   ]
  },
  {
   "cell_type": "code",
   "execution_count": 2,
   "id": "c40e2c0b",
   "metadata": {},
   "outputs": [
    {
     "data": {
      "text/plain": [
       "True"
      ]
     },
     "execution_count": 2,
     "metadata": {},
     "output_type": "execute_result"
    }
   ],
   "source": [
    "IPA('2.33.245.5')"
   ]
  },
  {
   "cell_type": "code",
   "execution_count": 3,
   "id": "9384a26a",
   "metadata": {},
   "outputs": [
    {
     "data": {
      "text/plain": [
       "False"
      ]
     },
     "execution_count": 3,
     "metadata": {},
     "output_type": "execute_result"
    }
   ],
   "source": [
    "IPA('12.345.67.89')"
   ]
  },
  {
   "cell_type": "code",
   "execution_count": 4,
   "id": "d432ee13",
   "metadata": {},
   "outputs": [
    {
     "data": {
      "text/plain": [
       "False"
      ]
     },
     "execution_count": 4,
     "metadata": {},
     "output_type": "execute_result"
    }
   ],
   "source": [
    "IPA('2.33.344.5')"
   ]
  },
  {
   "cell_type": "code",
   "execution_count": 5,
   "id": "09154c54",
   "metadata": {},
   "outputs": [
    {
     "data": {
      "text/plain": [
       "False"
      ]
     },
     "execution_count": 5,
     "metadata": {},
     "output_type": "execute_result"
    }
   ],
   "source": [
    "IPA('2.244.5')"
   ]
  }
 ],
 "metadata": {
  "kernelspec": {
   "display_name": "Python 3 (ipykernel)",
   "language": "python",
   "name": "python3"
  },
  "language_info": {
   "codemirror_mode": {
    "name": "ipython",
    "version": 3
   },
   "file_extension": ".py",
   "mimetype": "text/x-python",
   "name": "python",
   "nbconvert_exporter": "python",
   "pygments_lexer": "ipython3",
   "version": "3.9.7"
  }
 },
 "nbformat": 4,
 "nbformat_minor": 5
}
